{
  "nbformat": 4,
  "nbformat_minor": 0,
  "metadata": {
    "colab": {
      "provenance": []
    },
    "kernelspec": {
      "name": "python3",
      "display_name": "Python 3"
    },
    "language_info": {
      "name": "python"
    }
  },
  "cells": [
    {
      "cell_type": "markdown",
      "source": [
        "ques 1-**B> What is hypothesis testing in statistics**\n",
        "\n",
        "Answer-Hypothesis testing in statistics is a method used to make decisions or inferences about a population based on a sample of data. It helps you determine whether there is enough evidence in a sample to support a particular belief (hypothesis) about a population."
      ],
      "metadata": {
        "id": "7wOLePh83zHP"
      }
    },
    {
      "cell_type": "markdown",
      "source": [
        "ques 2-**What is the null hypothesis, and how does it differ from the alternative hypothesis**\n",
        "\n",
        "Answer-The null hypothesis (H₀) and the alternative hypothesis (H₁ or Ha) are two opposing statements in hypothesis testing. They form the foundation of the test and guide your conclusions based on the data.\n",
        "\n",
        "Null Hypothesis (H₀):\n",
        "\n",
        "\n",
        "The default or starting assumption.\n",
        "\n",
        "States that there is no effect, no difference, or no relationship in the population.\n",
        "\n",
        "It is the hypothesis that researchers typically try to disprove or reject.\n",
        "\n",
        "Alternative Hypothesis (H₁ or Ha):\n",
        "\n",
        "The opposite of the null hypothesis.\n",
        "\n",
        "Represents the claim that there is an effect, a difference, or a relationship.\n",
        "\n",
        "It's what the researcher usually wants to prove."
      ],
      "metadata": {
        "id": "aCX3DrKe3-QO"
      }
    },
    {
      "cell_type": "markdown",
      "source": [
        "ques3-**> What is the significance level in hypothesis testing, and why is it important**\n",
        "\n",
        "Answer-The significance level, denoted by α (alpha), is the threshold you set to decide whether to reject the null hypothesis (H₀). It represents the maximum probability of making a Type I error, which occurs when you reject H₀ when it is actually true."
      ],
      "metadata": {
        "id": "uqXmRkTC7_FH"
      }
    },
    {
      "cell_type": "markdown",
      "source": [
        "ques 4-**What does a P-value represent in hypothesis testing?**\n",
        "\n",
        "Answer-A P-value (short for probability value) is a key result in hypothesis testing. It helps you determine whether the results you observe in your sample are statistically significant.\n"
      ],
      "metadata": {
        "id": "BLyVQI5A84gj"
      }
    },
    {
      "cell_type": "markdown",
      "source": [
        "ques 5-**How do you interpret the P-value in hypothesis testing**\n",
        "\n",
        "Answer-Low P-value\tInterpretation\tConclusion (if α = 0.05)\n",
        "≤ 0.05\tStrong evidence against H₀ (unlikely to happen by chance)\tReject H₀ (statistically significant)\n",
        "High p-value > 0.05 - \tWeak evidence against H₀ (likely to happen by chance)\n",
        "\n",
        "fail to reject the null hypothesis\n",
        "result is not statistically significant"
      ],
      "metadata": {
        "id": "7AXCtY3h9Fhi"
      }
    },
    {
      "cell_type": "markdown",
      "source": [
        "ques 6-**What are Type 1 and Type 2 errors in hypothesis testing**\n",
        "\n",
        "Answer-Type I Error (False Positive)\n",
        "Definition: Rejecting the null hypothesis (H₀) when it is actually true.\n",
        "\n",
        "In other words: You say there's an effect or difference when there isn't one.\n",
        "\n",
        "Type 2 Error(False Negative)\n",
        "\n",
        "Definition: Failing to reject the null hypothesis (H₀) when it is actually false.\n",
        "\n",
        "In other words: You say there's no effect, but there actually is one.\n",
        "\n",
        "Probability of Type II Error = β"
      ],
      "metadata": {
        "id": "-p3Yn_WLBYez"
      }
    },
    {
      "cell_type": "markdown",
      "source": [
        "ques 7-**What is the difference between a one-tailed and a two-tailed test in hypothesis testing**\n",
        "\n",
        "Answer-Two-Tailed Test:\n",
        "Purpose: Tests for any difference from the null hypothesis — either greater than or less than.\n",
        "\n",
        "Alternative Hypothesis (H₁):\n",
        "Example:\n",
        "𝐻\n",
        "1\n",
        ":\n",
        "𝜇\n",
        "≠\n",
        "𝜇\n",
        "0\n",
        "H\n",
        "1\n",
        "​\n",
        " :μ\n",
        "\n",
        "=μ\n",
        "0\n",
        "​\n",
        "\n",
        "\n",
        "Used when: You don’t know or care in advance whether the value is higher or lower, only that it’s different.\n",
        "\n",
        "Critical region is split between both tails of the distribution.\n",
        "\n",
        " One-Tailed Test:\n",
        "Purpose: Tests for a difference in one specific direction only (greater than or less than).\n",
        "\n",
        "Alternative Hypothesis (H₁):\n",
        "Example:\n",
        "𝐻\n",
        "1\n",
        ":\n",
        "𝜇\n",
        ">\n",
        "𝜇\n",
        "0\n",
        "H\n",
        "1\n",
        "​\n",
        " :μ>μ\n",
        "0\n",
        "​\n",
        "  or\n",
        "𝐻\n",
        "1\n",
        ":\n",
        "𝜇\n",
        "<\n",
        "𝜇\n",
        "0\n",
        "H\n",
        "1\n",
        "​\n",
        " :μ<μ\n",
        "0\n",
        "​\n",
        "\n",
        "\n",
        "Used when: You have a clear expectation or interest in only one direction of change.\n",
        "\n",
        "All of α (significance level) is placed in one tail of the distribution.\n"
      ],
      "metadata": {
        "id": "NIIWuQ_0CFsd"
      }
    },
    {
      "cell_type": "markdown",
      "source": [
        "ques 7-**What is the Z-test, and when is it used in hypothesis testing**\n",
        "\n",
        "Answer-The Z-test is a statistical test used to determine whether there is a significant difference between a sample mean and a population mean (or between two sample means), assuming the population standard deviation is known and the data follows a normal distribution (or the sample size is large).\n",
        "\n",
        " When to Use a Z-test:\n",
        "You use a Z-test when ALL of the following conditions are met:\n",
        "\n",
        "✅ The population standard deviation (σ) is known\n",
        "\n",
        "✅ The sample size is large (n ≥ 30), or the population is normally distributed\n",
        "\n",
        "✅ You're testing for differences in means or proportions\n",
        "\n"
      ],
      "metadata": {
        "id": "IMeatqCQEDOd"
      }
    },
    {
      "cell_type": "markdown",
      "source": [
        "ques 9-**> How do you calculate the Z-score, and what does it represent in hypothesis testing**\n",
        "\n",
        "Answer-The Z-score tells you how many standard deviations a data point (or sample mean) is from the population mean.\n",
        "\n",
        "It standardizes your data so you can compare values from different normal distributions.\n",
        "\n",
        "In hypothesis testing, it helps you find how extreme your sample result is under the null hypothesis"
      ],
      "metadata": {
        "id": "1tZJiwPUES9L"
      }
    },
    {
      "cell_type": "markdown",
      "source": [
        "ques 10-**What is the T-distribution, and when should it be used instead of the normal distribution**\n",
        "\n",
        "Answer-The T-distribution (or Student's T-distribution) is a probability distribution that is similar to the normal distribution but has thicker tails.\n",
        "\n",
        "It is used in hypothesis testing and confidence intervals when you're dealing with small sample sizes and the population standard deviation is unknown.\n",
        "\n"
      ],
      "metadata": {
        "id": "ZO1ZbkmLEjOE"
      }
    },
    {
      "cell_type": "markdown",
      "source": [
        "ques 11-**What is the difference between a Z-test and a T-test**\n",
        "\n",
        "Answer-Z-test\tT-test\n",
        "Population Std. Dev. (σ)\t✅ Known\t❌ Unknown (use sample std. dev. s instead)\n",
        "Sample Size (n)\tTypically large (n ≥ 30)\t-Typically small (n < 30)\n",
        "Distribution Used\tStandard normal distribution (Z)\tT-distribution (with degrees of freedom = n - 1)\n",
        "Tails of distribution\tNarrower (less uncertainty)\tWider (accounts for more uncertainty due to small n)\n",
        "Use Case\tComparing means or proportions when σ is known"
      ],
      "metadata": {
        "id": "P2-X_xiiG5t4"
      }
    },
    {
      "cell_type": "markdown",
      "source": [
        "ques 12-**What is the T-test, and how is it used in hypothesis testing**\n",
        "\n",
        "Answer-A T-test is a statistical test used to determine whether there is a significant difference between:\n",
        "\n",
        "A sample mean and a known population mean, or\n",
        "\n",
        "The means of two independent or related samples\n",
        "\n",
        "ou are comparing means (not proportions)\n",
        "\n",
        "The population standard deviation (σ) is unknown\n",
        "\n",
        "The population is approximately normally distributed, especially with small samples\n",
        "\n"
      ],
      "metadata": {
        "id": "z11meG7vHyWD"
      }
    },
    {
      "cell_type": "markdown",
      "source": [
        "ques 13-**What is the relationship between Z-test and T-test in hypothesis testing**\n",
        "\n",
        "Answer-Purpose: Both tests aim to determine whether there is a statistically significant difference between a sample mean and a population mean (one-sample), or between the means of two groups (two-sample).\n",
        "\n",
        "Basis: Both rely on the standardized normal distribution concept — converting observed data into a test statistic and comparing it against a critical value."
      ],
      "metadata": {
        "id": "YgpKVHCdIRTS"
      }
    },
    {
      "cell_type": "markdown",
      "source": [
        "ques14-**What is a confidence interval, and how is it used to interpret statistical results**\n",
        "\n",
        "Answer-A confidence interval (CI) is a range of values, derived from sample data, that is likely to contain the true population parameter (such as a mean or proportion) with a specified level of confidence.\n",
        "\n",
        "1. Estimate the Population Parameter\n",
        "A CI gives a range, not just a single number, for the population parameter.\n",
        "\n",
        "For example, a 95% CI for the average height might be [170 cm, 180 cm], suggesting the true mean height likely lies within this range.\n",
        "\n",
        "2. Measure Precision and Reliability\n",
        "Narrow CI → More precise estimate (less variability)\n",
        "\n",
        "Wide CI → Less precise estimate (more variability)\n",
        "\n",
        "3. Hypothesis Testing Alternative\n",
        "A CI can help you accept or reject a null hypothesis:\n",
        "\n",
        "If the null value (e.g., difference = 0) is within the interval, you fail to reject the null hypothesis.\n",
        "\n",
        "If the null value is outside the interval, you reject the null hypothesis."
      ],
      "metadata": {
        "id": "6QCgay5cMGeH"
      }
    },
    {
      "cell_type": "markdown",
      "source": [
        "ques 15-**What is the margin of error, and how does it affect the confidence interval**\n",
        "\n",
        "Answer-The margin of error (MoE) is the amount added and subtracted from a sample estimate (like a mean or proportion) to create a confidence interval (CI). It reflects the maximum expected difference between the sample estimate and the true population value due to sampling variability.\n",
        "\n",
        "The confidence interval (CI) is calculated as:\n",
        "\n",
        "Confidence Interval\n",
        "=Sample Estimate ± Margin of Error\n",
        "Confidence Interval=Sample Estimate±Margin of Error\n",
        "So, the margin of error sets the range around the estimate:\n",
        "\n",
        "A larger margin of error → wider confidence interval → more uncertainty.\n",
        "\n",
        "A smaller margin of error → narrower confidence interval → more precision.\n"
      ],
      "metadata": {
        "id": "lWMqAYGjMpmS"
      }
    },
    {
      "cell_type": "markdown",
      "source": [
        "ques 16-**How is Bayes' Theorem used in statistics, and what is its significance**\n",
        "\n",
        "Answer-Bayes' Theorem is a foundational concept in probability and statistics, particularly in Bayesian statistics. It provides a mathematical way to update beliefs or probabilities based on new evidence.\n",
        "\n",
        "Bayes’ Theorem is central to Bayesian inference, where:\n",
        "\n",
        "You start with a prior belief or distribution about a parameter.\n",
        "\n",
        "You collect data (evidence).\n",
        "\n",
        "You update your belief to a posterior distribution using Baye\n",
        "\n"
      ],
      "metadata": {
        "id": "suw_FdlFNZKg"
      }
    },
    {
      "cell_type": "markdown",
      "source": [
        "ques 17-** What is the Chi-square distribution, and when is it used**\n",
        "\n",
        "Answer-The Chi-square distribution describes the distribution of a sum of the squares of independent standard normal variables:\n",
        "\n",
        "χ2=Z\n",
        "1\n",
        "2\n",
        "​\n",
        " +Z\n",
        "2\n",
        "2\n",
        "​\n",
        " +⋯+Z\n",
        "k\n",
        "2\n",
        "​\n",
        "Goodness-of-Fit Test\n",
        "Checks if observed frequencies match expected frequencies under a given distribution.\n",
        "\n",
        "2. Test of Independence (Contingency Tables)\n",
        "Tests whether two categorical variables are independent.\n",
        "\n",
        "Example: Is there a relationship between education level and job type?\n",
        "\n"
      ],
      "metadata": {
        "id": "WRcyzEl0FbVQ"
      }
    },
    {
      "cell_type": "markdown",
      "source": [
        "ques 18-**What is the Chi-square goodness of fit test, and how is it applied**\n",
        "\n",
        "Answer-The Chi-square goodness-of-fit test is a statistical test used to determine whether a set of observed categorical data fits an expected distribution. It’s one of the most common applications of the Chi-square distribution.\n",
        "\n",
        "1. State the Hypotheses\n",
        "Null Hypothesis (H₀): The observed frequencies follow the expected distribution.\n",
        "\n",
        "Alternative Hypothesis (H₁): The observed frequencies do not follow the expected distribution.\n",
        "\n",
        "2. Calculate Expected Frequencies\n",
        "Based on the assumed distribution.\n",
        "\n",
        "Example (uniform): If you roll a fair die 60 times, each face should appear 10 times.\n",
        "\n",
        "3. Compute the Chi-square Test Statistic"
      ],
      "metadata": {
        "id": "5EyR9WGeIghu"
      }
    },
    {
      "cell_type": "markdown",
      "source": [
        "ques 19-**What is the F-distribution, and when is it used in hypothesis testing**\n",
        "\n",
        "Answer-The F-distribution is a probability distribution that arises frequently in hypothesis testing, particularly when comparing variances or conducting ANOVA (Analysis of Variance). It's named after Sir Ronald Fisher, a pioneer of modern statistics.\n",
        "\n",
        "1. Analysis of Variance (ANOVA)\n",
        "Purpose: To test if there are significant differences among group means.\n",
        "\n",
        "How it's used: Compares the variance between group means to the variance within groups.\n",
        "\n",
        "If the between-group variance is significantly larger than within-group variance, it suggests not all means are equal.\n",
        "\n",
        "2. Comparing Two Population Variances\n",
        "Used to test whether two independent samples come from populations with equal variances.\n",
        "\n",
        "Example: Are the variances of test scores from two teaching methods significantly different?\n",
        "\n",
        "3. Regression Analysis\n",
        "In multiple regression, the F-test determines whether the overall regression model is significant (i.e., at least one predictor variable has a non-zero coefficient)."
      ],
      "metadata": {
        "id": "PUr_JDBCI7ei"
      }
    },
    {
      "cell_type": "markdown",
      "source": [
        "ques 20-**What is an ANOVA test, and what are its assumptions**\n",
        "\n",
        "Answer-An ANOVA test (short for Analysis of Variance) is a statistical method used to determine whether there are significant differences between the means of three or more independent groups.\n",
        "\n",
        "1. Independence of Observations\n",
        "The data from different groups must be independent (no overlap in subjects).\n",
        "\n",
        "2. Normality\n",
        "The residuals (differences between observed and group mean values) are approximately normally distributed.\n",
        "\n",
        "Often checked with normality tests (e.g., Shapiro-Wilk) or Q-Q plots.\n",
        "\n",
        "3. Homogeneity of Variances (Homoscedasticity)\n",
        "All groups should have similar variances.\n",
        "\n",
        "Checked using Levene's Test or Bartlett's Test."
      ],
      "metadata": {
        "id": "9cSG5yCVNf2U"
      }
    },
    {
      "cell_type": "markdown",
      "source": [
        "ques 21-**What are the different types of ANOVA tests**\n",
        "\n",
        "Answer- One-Way ANOVA\n",
        "\n",
        " Two-Way ANOVA (Factorial ANOVA)\n",
        "\n",
        " Repeated Measures ANOVA\n",
        "\n",
        " Two-Way Repeated Measures ANOVA\n",
        "\n",
        " Mixed-Design ANOVA (Split-Plot ANOVA)"
      ],
      "metadata": {
        "id": "urlxDzAwOgv9"
      }
    },
    {
      "cell_type": "markdown",
      "source": [
        "ques 22-**What is the F-test, and how does it relate to hypothesis testing?**\n",
        "\n",
        "Answer-The F-test is a statistical test that compares two variances or evaluates the overall significance of models, using the F-distribution. It's a key tool in hypothesis testing, especially in contexts like ANOVA, regression, and comparing population variances.\n",
        "\n",
        "\n",
        ". Comparing Two Population Variances\n",
        "Null Hypothesis (H₀):\n",
        "𝜎\n",
        "1\n",
        "2\n",
        "=\n",
        "𝜎\n",
        "2\n",
        "2\n",
        "σ\n",
        "1\n",
        "2\n",
        "​\n",
        " =σ\n",
        "2\n",
        "2\n",
        "​\n",
        "  (equal variances)\n",
        "\n",
        "Alternative Hypothesis (H₁):\n",
        "𝜎\n",
        "1\n",
        "2\n",
        "≠\n",
        "𝜎\n",
        "2\n",
        "2\n",
        "σ\n",
        "1\n",
        "2\n",
        "​\n",
        "\n",
        "\n",
        "=σ\n",
        "2\n",
        "2\n",
        "​\n",
        "\n",
        "\n",
        "Use Case: Testing variability between two processes or measurements\n",
        "\n"
      ],
      "metadata": {
        "id": "K4H0qkVCPDiP"
      }
    },
    {
      "cell_type": "markdown",
      "source": [
        "Practical questions"
      ],
      "metadata": {
        "id": "OuHp-DcYSlxM"
      }
    },
    {
      "cell_type": "markdown",
      "source": [
        "ques 1-**Write a Python program to generate a random variable and display its value**"
      ],
      "metadata": {
        "id": "SBditNyDS87D"
      }
    },
    {
      "cell_type": "code",
      "source": [
        "import random\n",
        "import numpy as np\n",
        "\n",
        "# Generate a random number from a uniform distribution [0, 1)\n",
        "uniform_var = random.random()\n",
        "print(\"Uniform random variable:\", uniform_var)\n",
        "\n",
        "# Generate a random number from a normal distribution (mean=0, std=1)\n",
        "normal_var = np.random.normal(loc=0, scale=1)\n",
        "print(\"Normal (Gaussian) random variable:\", normal_var)"
      ],
      "metadata": {
        "colab": {
          "base_uri": "https://localhost:8080/"
        },
        "id": "nE8k5y-7TN9h",
        "outputId": "2a095ca2-5e8c-412b-d413-ad6a3b51a62d"
      },
      "execution_count": null,
      "outputs": [
        {
          "output_type": "stream",
          "name": "stdout",
          "text": [
            "Uniform random variable: 0.4774139700733345\n",
            "Normal (Gaussian) random variable: -0.07258257126132536\n"
          ]
        }
      ]
    },
    {
      "cell_type": "markdown",
      "source": [
        "ques 2-**Generate a discrete uniform distribution using Python and plot the probability mass function **"
      ],
      "metadata": {
        "id": "BfC6-mbPUrFX"
      }
    },
    {
      "cell_type": "code",
      "execution_count": null,
      "metadata": {
        "id": "RoKUdKPG3xgt",
        "colab": {
          "base_uri": "https://localhost:8080/",
          "height": 228
        },
        "outputId": "ffb81b2a-758a-4369-f543-ca5af74dfc7b"
      },
      "outputs": [
        {
          "output_type": "error",
          "ename": "TypeError",
          "evalue": "stem() got an unexpected keyword argument 'use_line_collection'",
          "traceback": [
            "\u001b[0;31m---------------------------------------------------------------------------\u001b[0m",
            "\u001b[0;31mTypeError\u001b[0m                                 Traceback (most recent call last)",
            "\u001b[0;32m<ipython-input-2-cfb5c16ea480>\u001b[0m in \u001b[0;36m<cell line: 0>\u001b[0;34m()\u001b[0m\n\u001b[1;32m     16\u001b[0m \u001b[0;31m# Plot the PMF\u001b[0m\u001b[0;34m\u001b[0m\u001b[0;34m\u001b[0m\u001b[0m\n\u001b[1;32m     17\u001b[0m \u001b[0mplt\u001b[0m\u001b[0;34m.\u001b[0m\u001b[0mfigure\u001b[0m\u001b[0;34m(\u001b[0m\u001b[0mfigsize\u001b[0m\u001b[0;34m=\u001b[0m\u001b[0;34m(\u001b[0m\u001b[0;36m8\u001b[0m\u001b[0;34m,\u001b[0m \u001b[0;36m4\u001b[0m\u001b[0;34m)\u001b[0m\u001b[0;34m)\u001b[0m\u001b[0;34m\u001b[0m\u001b[0;34m\u001b[0m\u001b[0m\n\u001b[0;32m---> 18\u001b[0;31m \u001b[0mplt\u001b[0m\u001b[0;34m.\u001b[0m\u001b[0mstem\u001b[0m\u001b[0;34m(\u001b[0m\u001b[0mx\u001b[0m\u001b[0;34m,\u001b[0m \u001b[0mpmf\u001b[0m\u001b[0;34m,\u001b[0m \u001b[0mbasefmt\u001b[0m\u001b[0;34m=\u001b[0m\u001b[0;34m\" \"\u001b[0m\u001b[0;34m,\u001b[0m \u001b[0muse_line_collection\u001b[0m\u001b[0;34m=\u001b[0m\u001b[0;32mTrue\u001b[0m\u001b[0;34m)\u001b[0m\u001b[0;34m\u001b[0m\u001b[0;34m\u001b[0m\u001b[0m\n\u001b[0m\u001b[1;32m     19\u001b[0m \u001b[0mplt\u001b[0m\u001b[0;34m.\u001b[0m\u001b[0mtitle\u001b[0m\u001b[0;34m(\u001b[0m\u001b[0;34m'PMF of Discrete Uniform Distribution (1 to 6)'\u001b[0m\u001b[0;34m)\u001b[0m\u001b[0;34m\u001b[0m\u001b[0;34m\u001b[0m\u001b[0m\n\u001b[1;32m     20\u001b[0m \u001b[0mplt\u001b[0m\u001b[0;34m.\u001b[0m\u001b[0mxlabel\u001b[0m\u001b[0;34m(\u001b[0m\u001b[0;34m'Value'\u001b[0m\u001b[0;34m)\u001b[0m\u001b[0;34m\u001b[0m\u001b[0;34m\u001b[0m\u001b[0m\n",
            "\u001b[0;31mTypeError\u001b[0m: stem() got an unexpected keyword argument 'use_line_collection'"
          ]
        },
        {
          "output_type": "display_data",
          "data": {
            "text/plain": [
              "<Figure size 800x400 with 0 Axes>"
            ]
          },
          "metadata": {}
        }
      ],
      "source": [
        "import numpy as np\n",
        "import matplotlib.pyplot as plt\n",
        "from scipy.stats import randint\n",
        "\n",
        "# Parameters for the discrete uniform distribution\n",
        "low = 1  # inclusive\n",
        "high = 7  # exclusive (for 1 to 6 like a fair die)\n",
        "\n",
        "# Define the distribution\n",
        "dist = randint(low, high)\n",
        "\n",
        "# Possible values and their probabilities\n",
        "x = np.arange(low, high)\n",
        "pmf = dist.pmf(x)\n",
        "\n",
        "# Plot the PMF\n",
        "plt.figure(figsize=(8, 4))\n",
        "plt.stem(x, pmf, basefmt=\" \", use_line_collection=True)\n",
        "plt.title('PMF of Discrete Uniform Distribution (1 to 6)')\n",
        "plt.xlabel('Value')\n",
        "plt.ylabel('Probability')\n",
        "plt.xticks(x)\n",
        "plt.grid(True, linestyle='--', alpha=0.6)\n",
        "plt.show()"
      ]
    },
    {
      "cell_type": "markdown",
      "source": [
        "ques 3-**Write a Python function to calculate the probability distribution function (PDF) of a Bernoulli distribution**"
      ],
      "metadata": {
        "id": "4l8GA5tEV8DW"
      }
    },
    {
      "cell_type": "code",
      "source": [
        "def bernoulli_pdf(x, p):\n",
        "    \"\"\"\n",
        "    Calculate the PDF of a Bernoulli distribution.\n",
        "\n",
        "    Parameters:\n",
        "    - x (int): The outcome (0 or 1).\n",
        "    - p (float): The probability of success (0 <= p <= 1).\n",
        "\n",
        "    Returns:\n",
        "    - float: The probability P(X = x).\n",
        "    \"\"\"\n",
        "    if not (0 <= p <= 1):\n",
        "        raise ValueError(\"Probability p must be between 0 and 1.\")\n",
        "    if x not in (0, 1):\n",
        "        raise ValueError(\"x must be either 0 or 1 for a Bernoulli distribution.\")\n",
        "\n",
        "    return p if x == 1 else 1 - p"
      ],
      "metadata": {
        "id": "LJgP9Kn6VBIW"
      },
      "execution_count": 1,
      "outputs": []
    },
    {
      "cell_type": "markdown",
      "source": [
        "ques 4-**Write a Python script to simulate a binomial distribution with n=10 and p=0.5, then plot its histogram**"
      ],
      "metadata": {
        "id": "bwD0fZAYs_ZE"
      }
    },
    {
      "cell_type": "code",
      "source": [
        "\n",
        "import numpy as np\n",
        "import matplotlib.pyplot as plt\n",
        "\n",
        "# Parameters\n",
        "n = 10       # Number of trials\n",
        "p = 0.5      # Probability of success\n",
        "size = 10000  # Number of experiments (samples)\n",
        "\n",
        "# Simulate the binomial distribution\n",
        "samples = np.random.binomial(n, p, size=size)\n",
        "\n",
        "# Plot the histogram\n",
        "plt.figure(figsize=(8, 5))\n",
        "plt.hist(samples, bins=np.arange(n+2) - 0.5, density=True, edgecolor='black', alpha=0.7)\n",
        "plt.title(f'Binomial Distribution Histogram (n={n}, p={p})')\n",
        "plt.xlabel('Number of Successes')\n",
        "plt.ylabel('Probability')\n",
        "plt.xticks(range(n + 1))\n",
        "plt.grid(axis='y', linestyle='--', alpha=0.7)\n",
        "plt.show()"
      ],
      "metadata": {
        "colab": {
          "base_uri": "https://localhost:8080/",
          "height": 487
        },
        "id": "wwGjCutps6my",
        "outputId": "6860f65d-e8fd-443f-88e5-c7f3ae92425a"
      },
      "execution_count": 3,
      "outputs": [
        {
          "output_type": "display_data",
          "data": {
            "text/plain": [
              "<Figure size 800x500 with 1 Axes>"
            ],
            "image/png": "[encoded data removed]"
          },
          "metadata": {}
        }
      ]
    },
    {
      "cell_type": "markdown",
      "source": [
        "ques5-**Create a Poisson distribution and visualize it using Python**"
      ],
      "metadata": {
        "id": "_MmOH6dLtn6U"
      }
    },
    {
      "cell_type": "code",
      "source": [
        "import numpy as np\n",
        "import matplotlib.pyplot as plt\n",
        "from scipy.stats import poisson\n",
        "\n",
        "# Parameters\n",
        "lam = 4      # λ (average rate of events)\n",
        "size = 10000  # Number of samples\n",
        "\n",
        "# Generate Poisson-distributed data\n",
        "samples = np.random.poisson(lam=lam, size=size)\n",
        "\n",
        "# Plot histogram of simulated data\n",
        "plt.figure(figsize=(8, 5))\n",
        "counts, bins, patches = plt.hist(samples, bins=range(0, max(samples)+2), density=True,\n",
        "                                  alpha=0.6, edgecolor='black', align='left', label='Simulated')\n",
        "\n",
        "# Overlay theoretical PMF\n",
        "x = np.arange(0, max(samples)+1)\n",
        "pmf = poisson.pmf(x, mu=lam)\n",
        "plt.plot(x, pmf, 'o-', color='red', label='Theoretical PMF')\n",
        "\n",
        "# Labels and formatting\n",
        "plt.title(f'Poisson Distribution (λ={lam})')\n",
        "plt.xlabel('Number of Events')\n",
        "plt.ylabel('Probability')\n",
        "plt.legend()\n",
        "plt.grid(axis='y', linestyle='--', alpha=0.7)\n",
        "plt.xticks(x)\n",
        "plt.show()"
      ],
      "metadata": {
        "colab": {
          "base_uri": "https://localhost:8080/",
          "height": 487
        },
        "id": "1ZOWT_wDtXxg",
        "outputId": "8263ae3c-5f35-45e2-98e1-cd88b8d08ce0"
      },
      "execution_count": 4,
      "outputs": [
        {
          "output_type": "display_data",
          "data": {
            "text/plain": [
              "<Figure size 800x500 with 1 Axes>"
            ],
            "image/png": "[encoded data removed]"
          },
          "metadata": {}
        }
      ]
    },
    {
      "cell_type": "markdown",
      "source": [
        "ques 6-**Write a Python program to calculate and plot the cumulative distribution function (CDF) of a discrete\n",
        "uniform distribution**"
      ],
      "metadata": {
        "id": "O4g_wgD1t5a7"
      }
    },
    {
      "cell_type": "code",
      "source": [
        "import numpy as np\n",
        "import matplotlib.pyplot as plt\n",
        "\n",
        "# Parameters of the distribution\n",
        "a = 1  # Lower bound\n",
        "b = 6  # Upper bound (inclusive)\n",
        "\n",
        "# Support of the distribution\n",
        "x_values = np.arange(a, b + 1)\n",
        "\n",
        "# CDF values\n",
        "cdf_values = np.cumsum([1 / (b - a + 1)] * (b - a + 1))\n",
        "\n",
        "# Plotting\n",
        "plt.figure(figsize=(8, 5))\n",
        "plt.step(x_values, cdf_values, where='post', label='CDF', color='blue')\n",
        "plt.scatter(x_values, cdf_values, color='red')\n",
        "plt.title(f'Discrete Uniform Distribution CDF (a={a}, b={b})')\n",
        "plt.xlabel('x')\n",
        "plt.ylabel('F(x)')\n",
        "plt.xticks(x_values)\n",
        "plt.yticks(np.linspace(0, 1, b - a + 2))\n",
        "plt.grid(axis='both', linestyle='--', alpha=0.7)\n",
        "plt.legend()\n",
        "plt.show()"
      ],
      "metadata": {
        "colab": {
          "base_uri": "https://localhost:8080/",
          "height": 487
        },
        "id": "ADy8AF0_t4Fm",
        "outputId": "916efdee-31ea-409a-9b0e-ecc14c2b2c18"
      },
      "execution_count": 5,
      "outputs": [
        {
          "output_type": "display_data",
          "data": {
            "text/plain": [
              "<Figure size 800x500 with 1 Axes>"
            ],
            "image/png": "[encoded data removed]"
          },
          "metadata": {}
        }
      ]
    },
    {
      "cell_type": "markdown",
      "source": [
        "ques 7-**Generate a continuous uniform distribution using NumPy and visualize it**"
      ],
      "metadata": {
        "id": "POdgckfouIp8"
      }
    },
    {
      "cell_type": "code",
      "source": [
        "import numpy as np\n",
        "import matplotlib.pyplot as plt\n",
        "\n",
        "# Parameters\n",
        "a = 0       # Lower bound\n",
        "b = 10      # Upper bound\n",
        "size = 10000  # Number of samples\n",
        "\n",
        "# Generate continuous uniform samples\n",
        "samples = np.random.uniform(a, b, size=size)\n",
        "\n",
        "# Plot histogram\n",
        "plt.figure(figsize=(8, 5))\n",
        "count, bins, _ = plt.hist(samples, bins=50, density=True, alpha=0.6, edgecolor='black', label='Histogram')\n",
        "\n",
        "# Plot theoretical PDF\n",
        "plt.hlines(1 / (b - a), a, b, colors='red', linestyles='--', label='Theoretical PDF')\n",
        "\n",
        "# Formatting\n",
        "plt.title(f'Continuous Uniform Distribution (a={a}, b={b})')\n",
        "plt.xlabel('Value')\n",
        "plt.ylabel('Probability Density')\n",
        "plt.legend()\n",
        "plt.grid(axis='y', linestyle='--', alpha=0.7)\n",
        "plt.show()"
      ],
      "metadata": {
        "colab": {
          "base_uri": "https://localhost:8080/",
          "height": 487
        },
        "id": "hfioXLUsuH4d",
        "outputId": "4d94dafc-41b3-40f6-898b-f4a91d8636cc"
      },
      "execution_count": 6,
      "outputs": [
        {
          "output_type": "display_data",
          "data": {
            "text/plain": [
              "<Figure size 800x500 with 1 Axes>"
            ],
            "image/png": "[encoded data removed]"
          },
          "metadata": {}
        }
      ]
    },
    {
      "cell_type": "markdown",
      "source": [
        "ques 8-**Simulate data from a normal distribution and plot its histogram**"
      ],
      "metadata": {
        "id": "GPhDZzDwvthl"
      }
    },
    {
      "cell_type": "code",
      "source": [
        "import numpy as np\n",
        "import matplotlib.pyplot as plt\n",
        "from scipy.stats import norm\n",
        "\n",
        "# Parameters\n",
        "mu = 0       # Mean\n",
        "sigma = 1    # Standard deviation\n",
        "size = 10000  # Number of samples\n",
        "\n",
        "# Generate normal distribution samples\n",
        "samples = np.random.normal(mu, sigma, size)\n",
        "\n",
        "# Plot histogram\n",
        "plt.figure(figsize=(8, 5))\n",
        "count, bins, _ = plt.hist(samples, bins=50, density=True, alpha=0.6, color='skyblue', edgecolor='black', label='Histogram')\n",
        "\n",
        "# Plot theoretical PDF\n",
        "x = np.linspace(min(bins), max(bins), 1000)\n",
        "pdf = norm.pdf(x, mu, sigma)\n",
        "plt.plot(x, pdf, 'r--', linewidth=2, label='Theoretical PDF')\n",
        "\n",
        "# Formatting\n",
        "plt.title(f'Normal Distribution (μ={mu}, σ={sigma})')\n",
        "plt.xlabel('Value')\n",
        "plt.ylabel('Probability Density')\n",
        "plt.legend()\n",
        "plt.grid(axis='y', linestyle='--', alpha=0.7)\n",
        "plt.show()"
      ],
      "metadata": {
        "colab": {
          "base_uri": "https://localhost:8080/",
          "height": 487
        },
        "id": "-DvsbykeuXFG",
        "outputId": "d0e98970-a11a-4911-e99a-c2743d6cd0b7"
      },
      "execution_count": 7,
      "outputs": [
        {
          "output_type": "display_data",
          "data": {
            "text/plain": [
              "<Figure size 800x500 with 1 Axes>"
            ],
            "image/png": "[encoded data removed]"
          },
          "metadata": {}
        }
      ]
    },
    {
      "cell_type": "markdown",
      "source": [
        "ques9-**Write a Python function to calculate Z-scores from a dataset and plot them**"
      ],
      "metadata": {
        "id": "4QIpcLl8v9kY"
      }
    },
    {
      "cell_type": "code",
      "source": [
        "import numpy as np\n",
        "import matplotlib.pyplot as plt\n",
        "\n",
        "def calculate_and_plot_z_scores(data):\n",
        "    \"\"\"\n",
        "    Calculate Z-scores for a dataset and plot a histogram and scatter plot.\n",
        "\n",
        "    Parameters:\n",
        "    - data (array-like): List or NumPy array of numerical values\n",
        "    \"\"\"\n",
        "    data = np.asarray(data)\n",
        "    mean = np.mean(data)\n",
        "    std = np.std(data)\n",
        "\n",
        "    if std == 0:\n",
        "        raise ValueError(\"Standard deviation is zero. Z-scores are undefined.\")\n",
        "\n",
        "    # Calculate Z-scores\n",
        "    z_scores = (data - mean) / std\n",
        "\n",
        "    # Plot histogram of Z-scores\n",
        "    plt.figure(figsize=(10, 4))\n",
        "\n",
        "    plt.subplot(1, 2, 1)\n",
        "    plt.hist(z_scores, bins=30, color='skyblue', edgecolor='black', alpha=0.7)\n",
        "    plt.title('Histogram of Z-scores')\n",
        "    plt.xlabel('Z-score')\n",
        "    plt.ylabel('Frequency')\n",
        "    plt.grid(True, linestyle='--', alpha=0.6)\n",
        "\n",
        "    # Plot scatter of original index vs Z-score\n",
        "    plt.subplot(1, 2, 2)\n",
        "    plt.scatter(range(len(z_scores)), z_scores, color='darkblue', alpha=0.6)\n",
        "    plt.axhline(0, color='red', linestyle='--')\n",
        "    plt.title('Z-scores Scatter Plot')\n",
        "    plt.xlabel('Index')\n",
        "    plt.ylabel('Z-score')\n",
        "    plt.grid(True, linestyle='--', alpha=0.6)\n",
        "\n",
        "    plt.tight_layout()\n",
        "    plt.show()\n",
        "\n",
        "    return z_scores"
      ],
      "metadata": {
        "id": "PAmD3owpv8uu"
      },
      "execution_count": 8,
      "outputs": []
    },
    {
      "cell_type": "markdown",
      "source": [
        "ques10-**Implement the Central Limit Theorem (CLT) using Python for a non-normal distribution**"
      ],
      "metadata": {
        "id": "qJuq6vuowNED"
      }
    },
    {
      "cell_type": "code",
      "source": [
        "import numpy as np\n",
        "import matplotlib.pyplot as plt\n",
        "from scipy.stats import norm\n",
        "\n",
        "def demonstrate_clt(distribution, sample_size=30, num_samples=1000, plot=True):\n",
        "    \"\"\"\n",
        "    Demonstrate the Central Limit Theorem (CLT) by sampling means from a non-normal distribution.\n",
        "\n",
        "    Parameters:\n",
        "    - distribution (callable): Function to generate population data (e.g., np.random.exponential)\n",
        "    - sample_size (int): Number of observations in each sample\n",
        "    - num_samples (int): Number of samples to draw\n",
        "    - plot (bool): Whether to plot the histogram and normal curve\n",
        "    \"\"\"\n",
        "    # Draw many samples and compute sample means\n",
        "    sample_means = [np.mean(distribution(sample_size)) for _ in range(num_samples)]\n",
        "\n",
        "    if plot:\n",
        "        # Plot histogram of sample means\n",
        "        plt.figure(figsize=(8, 5))\n",
        "        plt.hist(sample_means, bins=30, density=True, alpha=0.6, edgecolor='black', label='Sample Means')\n",
        "\n",
        "        # Overlay normal distribution\n",
        "        mean = np.mean(sample_means)\n",
        "        std = np.std(sample_means)\n",
        "        x = np.linspace(min(sample_means), max(sample_means), 1000)\n",
        "        plt.plot(x, norm.pdf(x, mean, std), 'r--', label='Normal Approximation')\n",
        "\n",
        "        plt.title(f'CLT Demonstration (Sample Size = {sample_size})')\n",
        "        plt.xlabel('Sample Mean')\n",
        "        plt.ylabel('Density')\n",
        "        plt.legend()\n",
        "        plt.grid(axis='y', linestyle='--', alpha=0.7)\n",
        "        plt.show()\n",
        "\n",
        "    return sample_means\n"
      ],
      "metadata": {
        "id": "WyVYDyhuwLFU"
      },
      "execution_count": 11,
      "outputs": []
    },
    {
      "cell_type": "markdown",
      "source": [
        "ques 11-**Simulate multiple samples from a normal distribution and verify the Central Limit TheoremE**"
      ],
      "metadata": {
        "id": "lhwQdGgtwopp"
      }
    },
    {
      "cell_type": "code",
      "source": [
        "import numpy as np\n",
        "import matplotlib.pyplot as plt\n",
        "from scipy.stats import norm\n",
        "\n",
        "def simulate_clt_with_normal_distribution(mu=100, sigma=15, sample_size=30, num_samples=1000):\n",
        "    \"\"\"\n",
        "    Simulates multiple samples from a normal distribution and verifies the CLT.\n",
        "\n",
        "    Parameters:\n",
        "    - mu (float): Mean of the normal population\n",
        "    - sigma (float): Standard deviation of the normal population\n",
        "    - sample_size (int): Number of observations per sample\n",
        "    - num_samples (int): Number of samples to simulate\n",
        "    \"\"\"\n",
        "    # Simulate sample means\n",
        "    sample_means = []\n",
        "    for _ in range(num_samples):\n",
        "        sample = np.random.normal(loc=mu, scale=sigma, size=sample_size)\n",
        "        sample_means.append(np.mean(sample))\n",
        "\n",
        "    # Plot histogram of sample means\n",
        "    plt.figure(figsize=(8, 5))\n",
        "    plt.hist(sample_means, bins=30, density=True, alpha=0.6, edgecolor='black', label='Sample Means')\n",
        "\n",
        "    # Plot theoretical normal distribution\n",
        "    x = np.linspace(min(sample_means), max(sample_means), 1000)\n",
        "    theoretical_pdf = norm.pdf(x, mu, sigma / np.sqrt(sample_size))\n",
        "    plt.plot(x, theoretical_pdf, 'r--', label='Theoretical Normal PDF')\n",
        "\n",
        "    # Labels and grid\n",
        "    plt.title(f'CLT Verification (Normal Dist, n={sample_size}, samples={num_samples})')\n",
        "    plt.xlabel('Sample Mean')\n",
        "    plt.ylabel('Density')\n",
        "    plt.legend()\n",
        "    plt.grid(True, linestyle='--', alpha=0.6)\n",
        "    plt.show()\n",
        "\n",
        "    return sample_means"
      ],
      "metadata": {
        "id": "TlLIVTm6wd5m"
      },
      "execution_count": 12,
      "outputs": []
    },
    {
      "cell_type": "markdown",
      "source": [
        "ques 12-**Write a Python function to calculate and plot the standard normal distribution (mean = 0, std = 1)**"
      ],
      "metadata": {
        "id": "pzOYKjpqw1GS"
      }
    },
    {
      "cell_type": "code",
      "source": [
        "import numpy as np\n",
        "import matplotlib.pyplot as plt\n",
        "from scipy.stats import norm\n",
        "\n",
        "def plot_standard_normal_distribution():\n",
        "    \"\"\"\n",
        "    Plots the PDF of the standard normal distribution (mean=0, std=1).\n",
        "    \"\"\"\n",
        "    # Generate x values from -4 to 4 (covers most of the distribution)\n",
        "    x = np.linspace(-4, 4, 1000)\n",
        "\n",
        "    # Compute the PDF of the standard normal distribution\n",
        "    pdf = norm.pdf(x, loc=0, scale=1)\n",
        "\n",
        "    # Plot the PDF\n",
        "    plt.figure(figsize=(8, 5))\n",
        "    plt.plot(x, pdf, 'b-', linewidth=2, label='Standard Normal PDF')\n",
        "    plt.fill_between(x, pdf, alpha=0.2, color='blue')\n",
        "    plt.title('Standard Normal Distribution (μ=0, σ=1)')\n",
        "    plt.xlabel('x')\n",
        "    plt.ylabel('Probability Density')\n",
        "    plt.grid(True, linestyle='--', alpha=0.7)\n",
        "    plt.axvline(0, color='black', linestyle='--', linewidth=1)\n",
        "    plt.legend()\n",
        "    plt.show()\n"
      ],
      "metadata": {
        "id": "ha3hsxhVw0DP"
      },
      "execution_count": 13,
      "outputs": []
    },
    {
      "cell_type": "markdown",
      "source": [
        "ques 13-**E Generate random variables and calculate their corresponding probabilities using the binomial distribution**"
      ],
      "metadata": {
        "id": "HNRAcZi_xExU"
      }
    },
    {
      "cell_type": "code",
      "source": [
        "import numpy as np\n",
        "from scipy.stats import binom\n",
        "\n",
        "def generate_binomial_and_probs(n, p, size=10):\n",
        "    \"\"\"\n",
        "    Generate random variables from a binomial distribution and calculate their PMF probabilities.\n",
        "\n",
        "    Parameters:\n",
        "    - n (int): number of trials\n",
        "    - p (float): probability of success in each trial\n",
        "    - size (int): number of random variables to generate\n",
        "\n",
        "    Returns:\n",
        "    - samples (np.array): generated binomial random variables\n",
        "    - probs (np.array): PMF values for each sample\n",
        "    \"\"\"\n",
        "    # Generate random binomial samples\n",
        "    samples = np.random.binomial(n, p, size=size)\n",
        "\n",
        "    # Calculate PMF probabilities for each sample\n",
        "    probs = binom.pmf(samples, n, p)\n",
        "\n",
        "    return samples, probs\n",
        "\n",
        "# Example usage\n",
        "n = 10      # number of trials\n",
        "p = 0.5     # success probability\n",
        "size = 15   # number of samples\n",
        "\n",
        "samples, probabilities = generate_binomial_and_probs(n, p, size)\n",
        "for s, prob in zip(samples, probabilities):\n",
        "    print(f\"Number of successes: {s}, Probability: {prob:.4f}\")\n"
      ],
      "metadata": {
        "colab": {
          "base_uri": "https://localhost:8080/"
        },
        "id": "2r9gBrrdxDcZ",
        "outputId": "986e34aa-420b-4e69-aab4-b179c39f7fa6"
      },
      "execution_count": 14,
      "outputs": [
        {
          "output_type": "stream",
          "name": "stdout",
          "text": [
            "Number of successes: 5, Probability: 0.2461\n",
            "Number of successes: 2, Probability: 0.0439\n",
            "Number of successes: 6, Probability: 0.2051\n",
            "Number of successes: 7, Probability: 0.1172\n",
            "Number of successes: 7, Probability: 0.1172\n",
            "Number of successes: 6, Probability: 0.2051\n",
            "Number of successes: 5, Probability: 0.2461\n",
            "Number of successes: 5, Probability: 0.2461\n",
            "Number of successes: 4, Probability: 0.2051\n",
            "Number of successes: 3, Probability: 0.1172\n",
            "Number of successes: 3, Probability: 0.1172\n",
            "Number of successes: 5, Probability: 0.2461\n",
            "Number of successes: 5, Probability: 0.2461\n",
            "Number of successes: 6, Probability: 0.2051\n",
            "Number of successes: 6, Probability: 0.2051\n"
          ]
        }
      ]
    },
    {
      "cell_type": "markdown",
      "source": [
        "ques 14-**Write a Python program to calculate the Z-score for a given data point and compare it to a standard normal\n",
        "distribution**"
      ],
      "metadata": {
        "id": "1V5EiuPSxO2e"
      }
    },
    {
      "cell_type": "code",
      "source": [
        "import numpy as np\n",
        "import matplotlib.pyplot as plt\n",
        "from scipy.stats import norm\n",
        "\n",
        "def calculate_and_compare_z_score(data, point):\n",
        "    \"\"\"\n",
        "    Calculate the Z-score of a data point and compare it to the standard normal distribution.\n",
        "\n",
        "    Parameters:\n",
        "    - data (array-like): Dataset to calculate mean and std deviation\n",
        "    - point (float): The data point for which to calculate the Z-score\n",
        "    \"\"\"\n",
        "    data = np.asarray(data)\n",
        "    mean = np.mean(data)\n",
        "    std = np.std(data)\n",
        "\n",
        "    if std == 0:\n",
        "        raise ValueError(\"Standard deviation of data is zero; Z-score is undefined.\")\n",
        "\n",
        "    # Calculate Z-score\n",
        "    z = (point - mean) / std\n",
        "\n",
        "    # Calculate cumulative probability (CDF)\n",
        "    cdf_value = norm.cdf(z)\n",
        "\n",
        "    print(f\"Data point: {point}\")\n",
        "    print(f\"Mean of dataset: {mean:.4f}\")\n",
        "    print(f\"Standard deviation of dataset: {std:.4f}\")\n",
        "    print(f\"Z-score: {z:.4f}\")\n",
        "    print(f\"Cumulative probability (P(Z <= {z:.4f})): {cdf_value:.4f}\")\n",
        "\n",
        "    # Plot standard normal PDF with Z-score highlighted\n",
        "    x = np.linspace(-4, 4, 1000)\n",
        "    pdf = norm.pdf(x)\n",
        "\n",
        "    plt.figure(figsize=(8, 5))\n",
        "    plt.plot(x, pdf, label='Standard Normal PDF')\n",
        "    plt.fill_between(x, 0, pdf, where=(x <= z), color='skyblue', alpha=0.5, label=f'Area P(Z ≤ {z:.2f})')\n",
        "    plt.axvline(z, color='red', linestyle='--', label=f'Z = {z:.2f}')\n",
        "    plt.title('Standard Normal Distribution and Z')\n"
      ],
      "metadata": {
        "id": "jddFzd4mxNhM"
      },
      "execution_count": 16,
      "outputs": []
    },
    {
      "cell_type": "markdown",
      "source": [
        "ques15-**Implement hypothesis testing using Z-statistics for a sample dataset**"
      ],
      "metadata": {
        "id": "1WRglQFwxchp"
      }
    },
    {
      "cell_type": "code",
      "source": [
        "import numpy as np\n",
        "from scipy.stats import norm\n",
        "\n",
        "def z_test(sample, pop_mean, pop_std, alpha=0.05, alternative='two-sided'):\n",
        "    \"\"\"\n",
        "    Performs one-sample Z-test.\n",
        "\n",
        "    Parameters:\n",
        "    - sample (array-like): Sample data\n",
        "    - pop_mean (float): Population mean under null hypothesis (H0)\n",
        "    - pop_std (float): Known population standard deviation\n",
        "    - alpha (float): Significance level (default 0.05)\n",
        "    - alternative (str): 'two-sided', 'less', or 'greater'\n",
        "\n",
        "    Returns:\n",
        "    - z_stat (float): Computed Z statistic\n",
        "    - p_value (float): p-value of the test\n",
        "    - reject_null (bool): Whether to reject H0 at given alpha\n",
        "    \"\"\"\n",
        "    sample = np.asarray(sample)\n",
        "    n = len(sample)\n",
        "    sample_mean = np.mean(sample)\n",
        "\n",
        "    # Calculate Z statistic\n",
        "    z_stat = (sample_mean - pop_mean) / (pop_std / np.sqrt(n))\n",
        "\n",
        "    # Calculate p-value based on alternative hypothesis\n",
        "    if alternative == 'two-sided':\n",
        "        p_value = 2 * (1 - norm.cdf(abs(z_stat)))\n",
        "    elif alternative == 'less':\n",
        "        p_value = norm.cdf(z_stat)\n",
        "    elif alternative == 'greater':\n",
        "        p_value = 1 - norm.cdf(z_stat)\n",
        "    else:\n",
        "        raise ValueError(\"alternative must be 'two-sided', 'less', or 'greater'\")\n",
        "\n",
        "    # Decision\n",
        "    reject_null = p_value < alpha\n",
        "\n",
        "    return z_stat, p_value, reject_null\n",
        "\n",
        "# Example usage\n",
        "if __name__ == \"__main__\":\n",
        "    # Sample data simulated from a population with mean=100, std=15\n",
        "    np.random.seed(0)\n",
        "    sample_data = np.random.normal(102, 15, size=50)\n",
        "    known_pop_std = 15\n",
        "    hypothesized_mean = 100\n",
        "\n",
        "    z_stat, p_val, reject = z_test(sample_data, hypothesized_mean, known_pop_std, alpha=0.05, alternative='two-sided')\n",
        "    print(f\"Z statistic: {z_stat:.4f}\")\n",
        "    print(f\"P-value: {p_val:.4f}\")\n",
        "    print(\"Reject null hypothesis?\" , reject)\n"
      ],
      "metadata": {
        "colab": {
          "base_uri": "https://localhost:8080/"
        },
        "id": "gTJJYTzwxY7m",
        "outputId": "334d8ed5-5130-4f4e-d55e-8b2469b3ee8b"
      },
      "execution_count": 17,
      "outputs": [
        {
          "output_type": "stream",
          "name": "stdout",
          "text": [
            "Z statistic: 1.9367\n",
            "P-value: 0.0528\n",
            "Reject null hypothesis? False\n"
          ]
        }
      ]
    },
    {
      "cell_type": "markdown",
      "source": [
        "ques 16-**Create a confidence interval for a dataset using Python and interpret the result**"
      ],
      "metadata": {
        "id": "zq7XXrnKxoYB"
      }
    },
    {
      "cell_type": "code",
      "source": [
        "import numpy as np\n",
        "from scipy.stats import norm\n",
        "\n",
        "def confidence_interval(data, confidence=0.95):\n",
        "    \"\"\"\n",
        "    Calculate confidence interval for the mean of the dataset.\n",
        "\n",
        "    Parameters:\n",
        "    - data (array-like): Sample data\n",
        "    - confidence (float): Confidence level (default 0.95)\n",
        "\n",
        "    Returns:\n",
        "    - (lower_bound, upper_bound): Tuple with CI bounds\n",
        "    \"\"\"\n",
        "    data = np.asarray(data)\n",
        "    n = len(data)\n",
        "    mean = np.mean(data)\n",
        "    std_err = np.std(data, ddof=1) / np.sqrt(n)  # Sample standard error\n",
        "\n",
        "    # Z-score for two-tailed test\n",
        "    z = norm.ppf(1 - (1 - confidence) / 2)\n",
        "\n",
        "    lower_bound = mean - z * std_err\n",
        "    upper_bound = mean + z * std_err\n",
        "\n",
        "    return lower_bound, upper_bound\n",
        "\n",
        "# Example usage:\n",
        "if __name__ == \"__main__\":\n",
        "    np.random.seed(42)\n",
        "    sample_data = np.random.normal(loc=50, scale=5, size=100)\n",
        "\n",
        "    ci_low, ci_high = confidence_interval(sample_data, confidence=0.95)\n",
        "    print(f\"Sample mean: {np.mean(sample_data):.2f}\")\n",
        "    print(f\"95% Confidence Interval: [{ci_low:.2f}, {ci_high:.2f}]\")\n"
      ],
      "metadata": {
        "colab": {
          "base_uri": "https://localhost:8080/"
        },
        "id": "k8TbFjFcxnEW",
        "outputId": "fe2de6ae-a059-4149-a5f1-3f2d58dc1ab9"
      },
      "execution_count": 18,
      "outputs": [
        {
          "output_type": "stream",
          "name": "stdout",
          "text": [
            "Sample mean: 49.48\n",
            "95% Confidence Interval: [48.59, 50.37]\n"
          ]
        }
      ]
    },
    {
      "cell_type": "markdown",
      "source": [
        "ques 17-**Generate data from a normal distribution, then calculate and interpret the confidence interval for its mean**"
      ],
      "metadata": {
        "id": "_B3mfoS-xzsL"
      }
    },
    {
      "cell_type": "code",
      "source": [
        "import numpy as np\n",
        "from scipy.stats import norm\n",
        "\n",
        "def confidence_interval(data, confidence=0.95):\n",
        "    \"\"\"\n",
        "    Calculate confidence interval for the mean of the dataset.\n",
        "\n",
        "    Parameters:\n",
        "    - data (array-like): Sample data\n",
        "    - confidence (float): Confidence level (default 0.95)\n",
        "\n",
        "    Returns:\n",
        "    - (lower_bound, upper_bound): Tuple with CI bounds\n",
        "    \"\"\"\n",
        "    data = np.asarray(data)\n",
        "    n = len(data)\n",
        "    mean = np.mean(data)\n",
        "    std_err = np.std(data, ddof=1) / np.sqrt(n)  # Sample standard error\n",
        "\n",
        "    # Z-score for two-tailed test\n",
        "    z = norm.ppf(1 - (1 - confidence) / 2)\n",
        "\n",
        "    lower_bound = mean - z * std_err\n",
        "    upper_bound = mean + z * std_err\n",
        "\n",
        "    return mean, lower_bound, upper_bound\n",
        "\n",
        "# Generate sample data\n",
        "np.random.seed(123)\n",
        "sample_size = 100\n",
        "population_mean = 50\n",
        "population_std = 10\n",
        "\n",
        "data = np.random.normal(loc=population_mean, scale=population_std, size=sample_size)\n",
        "\n",
        "# Calculate confidence interval\n",
        "mean, ci_low, ci_high = confidence_interval(data, confidence=0.95)\n",
        "\n",
        "# Print results\n",
        "print(f\"Sample Mean: {mean:.2f}\")\n",
        "print(f\"95% Confidence Interval for the Mean: [{ci_low:.2f}, {ci_high:.2f}]\")\n",
        "\n",
        "# Interpretation\n",
        "print(\"\\nInterpretation:\")\n",
        "print(f\"We are 95% confident that the true population mean lies between {ci_low:.2f} and {ci_high:.2f}.\")\n"
      ],
      "metadata": {
        "colab": {
          "base_uri": "https://localhost:8080/"
        },
        "id": "0uudE1kgxx9r",
        "outputId": "41c25ce6-8a85-46ba-dbda-206641ba4c74"
      },
      "execution_count": 19,
      "outputs": [
        {
          "output_type": "stream",
          "name": "stdout",
          "text": [
            "Sample Mean: 50.27\n",
            "95% Confidence Interval for the Mean: [48.05, 52.49]\n",
            "\n",
            "Interpretation:\n",
            "We are 95% confident that the true population mean lies between 48.05 and 52.49.\n"
          ]
        }
      ]
    },
    {
      "cell_type": "markdown",
      "source": [
        "ques 18-**E Write a Python script to calculate and visualize the probability density function (PDF) of a normal distribution**"
      ],
      "metadata": {
        "id": "7HSEsOoXx_u1"
      }
    },
    {
      "cell_type": "code",
      "source": [
        "import numpy as np\n",
        "import matplotlib.pyplot as plt\n",
        "from scipy.stats import norm\n",
        "\n",
        "def plot_normal_pdf(mu=0, sigma=1):\n",
        "    \"\"\"\n",
        "    Calculate and plot the PDF of a normal distribution.\n",
        "\n",
        "    Parameters:\n",
        "    - mu (float): Mean of the distribution\n",
        "    - sigma (float): Standard deviation of the distribution\n",
        "    \"\"\"\n",
        "    # Generate x values (covering ±4 standard deviations)\n",
        "    x = np.linspace(mu - 4*sigma, mu + 4*sigma, 1000)\n",
        "    # Calculate the PDF values for each x\n",
        "    pdf = norm.pdf(x, loc=mu, scale=sigma)\n",
        "\n",
        "    # Plot the PDF\n",
        "    plt.figure(figsize=(8, 5))\n",
        "    plt.plot(x, pdf, 'b-', lw=2, label=f'Normal PDF\\n$\\mu={mu}$, $\\sigma={sigma}$')\n",
        "    plt.fill_between(x, pdf, alpha=0.2)\n",
        "    plt.title('Normal Distribution PDF')\n",
        "    plt.xlabel('x')\n",
        "    plt.ylabel('Probability Density')\n",
        "    plt.legend()\n",
        "    plt.grid(True, linestyle='--', alpha=0.6)\n",
        "    plt.show()\n",
        "\n"
      ],
      "metadata": {
        "id": "m0_l90Dux9-z"
      },
      "execution_count": 20,
      "outputs": []
    },
    {
      "cell_type": "markdown",
      "source": [
        "ques 19-**Use Python to calculate and interpret the cumulative distribution function (CDF) of a Poisson distribution**"
      ],
      "metadata": {
        "id": "zim9-tioyLFZ"
      }
    },
    {
      "cell_type": "code",
      "source": [
        "import numpy as np\n",
        "from scipy.stats import poisson\n",
        "import matplotlib.pyplot as plt\n",
        "\n",
        "def poisson_cdf_example(lam, max_k):\n",
        "    \"\"\"\n",
        "    Calculate and plot the CDF of a Poisson distribution.\n",
        "\n",
        "    Parameters:\n",
        "    - lam (float): The rate (λ) parameter of the Poisson distribution\n",
        "    - max_k (int): Maximum number of events to calculate CDF for\n",
        "    \"\"\"\n",
        "    # Generate k values from 0 to max_k\n",
        "    k_values = np.arange(0, max_k + 1)\n",
        "\n",
        "    # Calculate CDF values\n",
        "    cdf_values = poisson.cdf(k_values, mu=lam)\n",
        "\n",
        "    # Print CDF values for interpretation\n",
        "    for k, cdf_val in zip(k_values, cdf_values):\n",
        "        print(f\"P(X ≤ {k}) = {cdf_val:.4f}\")\n",
        "\n",
        "    # Plot the CDF\n",
        "    plt.step(k_values, cdf_values, where='post', label=f'Poisson CDF (λ={lam})')\n",
        "    plt.xlabel('k')\n",
        "    plt.ylabel('CDF P(X ≤ k)')\n",
        "    plt.title('Poisson Distribution CDF')\n",
        "    plt.grid(True, linestyle='--', alpha=0.7)\n",
        "    plt.legend()\n",
        "    plt.show()\n",
        "\n"
      ],
      "metadata": {
        "id": "W7WCQI_-yKBq"
      },
      "execution_count": 21,
      "outputs": []
    },
    {
      "cell_type": "markdown",
      "source": [
        "ques 20-**Simulate a random variable using a continuous uniform distribution and calculate its expected value**"
      ],
      "metadata": {
        "id": "xLzNBqkTzOrY"
      }
    },
    {
      "cell_type": "code",
      "source": [
        "import numpy as np\n",
        "\n",
        "def simulate_uniform_and_expected_value(a=0, b=1, size=10000):\n",
        "    \"\"\"\n",
        "    Simulate random variables from a continuous uniform distribution and calculate expected value.\n",
        "\n",
        "    Parameters:\n",
        "    - a (float): lower bound\n",
        "    - b (float): upper bound\n",
        "    - size (int): number of samples to simulate\n",
        "\n",
        "    Returns:\n",
        "    - simulated_mean (float): mean of simulated data\n",
        "    - theoretical_mean (float): theoretical expected value\n",
        "    \"\"\"\n",
        "    # Simulate uniform random variables\n",
        "    samples = np.random.uniform(a, b, size)\n",
        "\n",
        "    # Calculate simulated mean\n",
        "    simulated_mean = np.mean(samples)\n",
        "\n",
        "    # Theoretical expected value for Uniform(a, b)\n",
        "    theoretical_mean = (a + b) / 2\n",
        "\n",
        "    print(f\"Simulated mean from {size} samples: {simulated_mean:.4f}\")\n",
        "    print(f\"Theoretical expected value: {theoretical_mean:.4f}\")\n",
        "\n",
        "    return simulated_mean, theoretical_mean\n"
      ],
      "metadata": {
        "id": "2tLFNdykzNqd"
      },
      "execution_count": 22,
      "outputs": []
    },
    {
      "cell_type": "markdown",
      "source": [
        "ques 21-**E Write a Python program to compare the standard deviations of two datasets and visualize the difference**"
      ],
      "metadata": {
        "id": "RYKoY4SYzo6k"
      }
    },
    {
      "cell_type": "code",
      "source": [
        "import numpy as np\n",
        "import matplotlib.pyplot as plt\n",
        "\n",
        "def compare_std_and_visualize(data1, data2, labels=('Dataset 1', 'Dataset 2')):\n",
        "    \"\"\"\n",
        "    Calculate and compare standard deviations of two datasets and visualize the difference.\n",
        "\n",
        "    Parameters:\n",
        "    - data1, data2: array-like datasets\n",
        "    - labels: tuple of labels for the datasets (default: ('Dataset 1', 'Dataset 2'))\n",
        "    \"\"\"\n",
        "    std1 = np.std(data1, ddof=1)  # sample std deviation\n",
        "    std2 = np.std(data2, ddof=1)\n",
        "\n",
        "    print(f\"Standard deviation of {labels[0]}: {std1:.4f}\")\n",
        "    print(f\"Standard deviation of {labels[1]}: {std2:.4f}\")\n",
        "\n",
        "    # Bar plot\n",
        "    plt.figure(figsize=(6, 5))\n",
        "    plt.bar(labels, [std1, std2], color=['skyblue', 'salmon'])\n",
        "    plt.ylabel('Standard Deviation')\n",
        "    plt.title('Comparison of Standard Deviations')\n",
        "    plt.grid(axis='y', linestyle='--', alpha=0.7)\n",
        "    plt.show()\n",
        "\n"
      ],
      "metadata": {
        "id": "zgeqepWTzoGO"
      },
      "execution_count": 23,
      "outputs": []
    },
    {
      "cell_type": "markdown",
      "source": [
        "ques 22-**Calculate the range and interquartile range (IQR) of a dataset generated from a normal distribution**"
      ],
      "metadata": {
        "id": "oQ6QNWFs04PC"
      }
    },
    {
      "cell_type": "code",
      "source": [
        "import numpy as np\n",
        "\n",
        "# Generate sample data\n",
        "np.random.seed(42)\n",
        "data = np.random.normal(loc=50, scale=10, size=1000)\n",
        "\n",
        "# Calculate range\n",
        "data_range = np.max(data) - np.min(data)\n",
        "\n",
        "# Calculate interquartile range (IQR)\n",
        "Q1 = np.percentile(data, 25)\n",
        "Q3 = np.percentile(data, 75)\n",
        "IQR = Q3 - Q1\n",
        "\n",
        "print(f\"Range of data: {data_range:.2f}\")\n",
        "print(f\"Interquartile Range (IQR) of data: {IQR:.2f}\")"
      ],
      "metadata": {
        "colab": {
          "base_uri": "https://localhost:8080/"
        },
        "id": "HCVFTUXn0NvW",
        "outputId": "91556179-ffea-4cf5-b335-cc9e13b956ed"
      },
      "execution_count": 24,
      "outputs": [
        {
          "output_type": "stream",
          "name": "stdout",
          "text": [
            "Range of data: 70.94\n",
            "Interquartile Range (IQR) of data: 12.96\n"
          ]
        }
      ]
    },
    {
      "cell_type": "markdown",
      "source": [
        "ques 23-**Implement Z-score normalization on a dataset and visualize its transformation**"
      ],
      "metadata": {
        "id": "VL4k6n-R2glH"
      }
    },
    {
      "cell_type": "code",
      "source": [
        "import numpy as np\n",
        "import matplotlib.pyplot as plt\n",
        "\n",
        "def z_score_normalize(data):\n",
        "    \"\"\"\n",
        "    Perform Z-score normalization on the dataset.\n",
        "\n",
        "    Parameters:\n",
        "    - data (array-like): Original data\n",
        "\n",
        "    Returns:\n",
        "    - normalized_data (np.array): Z-score normalized data\n",
        "    \"\"\"\n",
        "    mean = np.mean(data)\n",
        "    std = np.std(data, ddof=1)\n",
        "    normalized_data = (data - mean) / std\n",
        "    return normalized_data\n",
        "\n",
        "# Generate sample data\n",
        "np.random.seed(0)\n",
        "data = np.random.normal(loc=50, scale=10, size=1000)\n",
        "\n",
        "# Normalize data\n",
        "normalized_data = z_score_normalize(data)\n",
        "\n",
        "# Plot before and after normalization\n",
        "plt.figure(figsize=(12, 5))\n",
        "\n",
        "plt.subplot(1, 2, 1)\n",
        "plt.hist(data, bins=30, color='skyblue', edgecolor='black')\n",
        "plt.title('Original Data')\n",
        "plt.xlabel('Value')\n",
        "plt.ylabel('Frequency')\n",
        "\n",
        "plt.subplot(1, 2, 2)\n",
        "plt.hist(normalized_data, bins=30, color='salmon', edgecolor='black')\n",
        "plt.title('Z-score Normalized Data')\n",
        "plt.xlabel('Z-score')\n",
        "plt.ylabel('Frequency')\n",
        "\n",
        "plt.tight_layout()\n",
        "plt.show()\n"
      ],
      "metadata": {
        "colab": {
          "base_uri": "https://localhost:8080/",
          "height": 507
        },
        "id": "QvPXjhlM1Cse",
        "outputId": "6da31f7b-50b7-456a-87df-d23bc01676c7"
      },
      "execution_count": 25,
      "outputs": [
        {
          "output_type": "display_data",
          "data": {
            "text/plain": [
              "<Figure size 1200x500 with 2 Axes>"
            ],
            "image/png": "[encoded data removed]"
          },
          "metadata": {}
        }
      ]
    },
    {
      "cell_type": "markdown",
      "source": [
        "ques 24-**Write a Python function to calculate the skewness and kurtosis of a dataset generated from a normal\n",
        "distribution**"
      ],
      "metadata": {
        "id": "-xeFzkTI3Q6l"
      }
    },
    {
      "cell_type": "code",
      "source": [
        "import numpy as np\n",
        "from scipy.stats import skew, kurtosis\n",
        "\n",
        "def calculate_skewness_kurtosis(data):\n",
        "    \"\"\"\n",
        "    Calculate skewness and kurtosis of the dataset.\n",
        "\n",
        "    Parameters:\n",
        "    - data (array-like): Input data\n",
        "\n",
        "    Returns:\n",
        "    - skewness (float)\n",
        "    - kurtosis_value (float)\n",
        "    \"\"\"\n",
        "    skewness = skew(data)\n",
        "    # By default, kurtosis returns excess kurtosis (kurtosis - 3)\n",
        "    kurtosis_value = kurtosis(data)\n",
        "    return skewness, kurtosis_value\n",
        "\n",
        "# Example usage:\n",
        "np.random.seed(42)\n",
        "sample_data = np.random.normal(loc=0, scale=1, size=1000)\n",
        "\n",
        "skew_val, kurt_val = calculate_skewness_kurtosis(sample_data)\n",
        "\n",
        "print(f\"Skewness: {skew_val:.4f}\")\n",
        "print(f\"Kurtosis (excess): {kurt_val:.4f}\")\n"
      ],
      "metadata": {
        "colab": {
          "base_uri": "https://localhost:8080/"
        },
        "id": "o4uTZva_3KCl",
        "outputId": "bc200a55-7945-470f-c70b-9ebf780a4ac4"
      },
      "execution_count": 26,
      "outputs": [
        {
          "output_type": "stream",
          "name": "stdout",
          "text": [
            "Skewness: 0.1168\n",
            "Kurtosis (excess): 0.0662\n"
          ]
        }
      ]
    },
    {
      "cell_type": "markdown",
      "source": [
        "Practical  part 2"
      ],
      "metadata": {
        "id": "af1Rn9PM3b1Q"
      }
    },
    {
      "cell_type": "markdown",
      "source": [
        "ques 1-**Write a Python program to perform a Z-test for comparing a sample mean to a known population mean and\n",
        "interpret the results**"
      ],
      "metadata": {
        "id": "eucWpKbD4MMM"
      }
    },
    {
      "cell_type": "code",
      "source": [
        "import numpy as np\n",
        "from scipy.stats import norm\n",
        "\n",
        "def one_sample_z_test(sample, pop_mean, pop_std, alpha=0.05, alternative='two-sided'):\n",
        "    \"\"\"\n",
        "    Perform a one-sample Z-test.\n",
        "\n",
        "    Parameters:\n",
        "    - sample (array-like): Sample data\n",
        "    - pop_mean (float): Population mean under null hypothesis\n",
        "    - pop_std (float): Known population standard deviation\n",
        "    - alpha (float): Significance level (default 0.05)\n",
        "    - alternative (str): 'two-sided', 'less', or 'greater'\n",
        "\n",
        "    Returns:\n",
        "    - z_stat (float): Computed Z statistic\n",
        "    - p_value (float): p-value of the test\n",
        "    - reject_null (bool): Whether to reject the null hypothesis\n",
        "    \"\"\"\n",
        "    sample = np.array(sample)\n",
        "    n = len(sample)\n",
        "    sample_mean = np.mean(sample)\n",
        "\n",
        "    # Compute Z statistic\n",
        "    z_stat = (sample_mean - pop_mean) / (pop_std / np.sqrt(n))\n",
        "\n",
        "    # Calculate p-value based on alternative hypothesis\n",
        "    if alternative == 'two-sided':\n",
        "        p_value = 2 * (1 - norm.cdf(abs(z_stat)))\n",
        "    elif alternative == 'less':\n",
        "        p_value = norm.cdf(z_stat)\n",
        "    elif alternative == 'greater':\n",
        "        p_value = 1 - norm.cdf(z_stat)\n",
        "    else:\n",
        "        raise ValueError(\"alternative must be 'two-sided', 'less', or 'greater'\")\n",
        "\n",
        "    reject_null = p_value < alpha\n",
        "\n",
        "    return z_stat, p_value, reject_null\n",
        "\n",
        "# Example usage\n",
        "if __name__ == \"__main__\":\n",
        "    np.random.seed(0)\n",
        "    # Sample drawn from a population with mean=100, std=15\n",
        "    sample_data = np.random.normal(loc=102, scale=15, size=50)\n",
        "    known_pop_mean = 100\n",
        "    known_pop_std = 15\n",
        "    alpha = 0.05\n",
        "\n",
        "    z_stat, p_val, reject = one_sample_z_test(sample_data, known_pop_mean, known_pop_std, alpha, alternative='two-sided')\n",
        "\n",
        "    print(f\"Sample mean: {np.mean(sample_data):.2f}\")\n",
        "    print(f\"Z-statistic: {z_stat:.4f}\")\n",
        "    print(f\"P-value: {p_val:.4f}\")\n",
        "\n",
        "    if reject:\n",
        "        print(f\"Reject the null hypothesis at α={alpha}. The sample mean is significantly different from the population mean.\")\n",
        "    else:\n",
        "        print(f\"Fail to reject the null hypothesis at α={alpha}. No significant difference between the sample mean and population mean.\")\n"
      ],
      "metadata": {
        "colab": {
          "base_uri": "https://localhost:8080/"
        },
        "id": "tIqpPy463Zxk",
        "outputId": "61fef513-7255-4197-c0ec-06f039724859"
      },
      "execution_count": 27,
      "outputs": [
        {
          "output_type": "stream",
          "name": "stdout",
          "text": [
            "Sample mean: 104.11\n",
            "Z-statistic: 1.9367\n",
            "P-value: 0.0528\n",
            "Fail to reject the null hypothesis at α=0.05. No significant difference between the sample mean and population mean.\n"
          ]
        }
      ]
    },
    {
      "cell_type": "markdown",
      "source": [
        "ques 2-**Simulate random data to perform hypothesis testing and calculate the corresponding P-value using PythonE**"
      ],
      "metadata": {
        "id": "FvoQnvpS5ABy"
      }
    },
    {
      "cell_type": "code",
      "source": [
        "import numpy as np\n",
        "from scipy.stats import ttest_ind\n",
        "\n",
        "# Simulate random data for two groups\n",
        "np.random.seed(42)\n",
        "group1 = np.random.normal(loc=50, scale=5, size=30)  # group 1: mean=50\n",
        "group2 = np.random.normal(loc=52, scale=5, size=30)  # group 2: mean=52\n",
        "\n",
        "# Perform two-sample t-test (assume unequal variances)\n",
        "t_stat, p_value = ttest_ind(group1, group2, equal_var=False)\n",
        "\n",
        "print(f\"T-statistic: {t_stat:.4f}\")\n",
        "print(f\"P-value: {p_value:.4f}\")\n",
        "\n",
        "# Interpret the result\n",
        "alpha = 0.05\n",
        "if p_value < alpha:\n",
        "    print(\"Reject the null hypothesis: the group means are significantly different.\")\n",
        "else:\n",
        "    print(\"Fail to reject the null hypothesis: no significant difference between group means.\")\n"
      ],
      "metadata": {
        "colab": {
          "base_uri": "https://localhost:8080/"
        },
        "id": "31WzkhI74xRe",
        "outputId": "3c06ff15-854d-4e6b-d133-4670064d3100"
      },
      "execution_count": 28,
      "outputs": [
        {
          "output_type": "stream",
          "name": "stdout",
          "text": [
            "T-statistic: -1.9752\n",
            "P-value: 0.0530\n",
            "Fail to reject the null hypothesis: no significant difference between group means.\n"
          ]
        }
      ]
    },
    {
      "cell_type": "markdown",
      "source": [
        "ques 3-**Implement a one-sample Z-test using Python to compare the sample mean with the population mean**"
      ],
      "metadata": {
        "id": "LiQDKNcX9qGA"
      }
    },
    {
      "cell_type": "code",
      "source": [
        "import numpy as np\n",
        "from scipy.stats import norm\n",
        "\n",
        "def one_sample_z_test(sample_data, pop_mean, pop_std, alpha=0.05):\n",
        "    \"\"\"\n",
        "    Perform a one-sample Z-test to compare sample mean with population mean.\n",
        "\n",
        "    Parameters:\n",
        "    - sample_data (array-like): Sample observations\n",
        "    - pop_mean (float): Known population mean (μ₀)\n",
        "    - pop_std (float): Known population standard deviation (σ)\n",
        "    - alpha (float): Significance level (default: 0.05)\n",
        "\n",
        "    Returns:\n",
        "    - z_stat (float): Z-score\n",
        "    - p_value (float): Two-tailed p-value\n",
        "    - reject_null (bool): True if null hypothesis is rejected\n",
        "    \"\"\"\n",
        "    sample_data = np.array(sample_data)\n",
        "    sample_mean = np.mean(sample_data)\n",
        "    n = len(sample_data)\n",
        "\n",
        "    # Z-statistic formula\n",
        "    z_stat = (sample_mean - pop_mean) / (pop_std / np.sqrt(n))\n",
        "    p_value = 2 * (1 - norm.cdf(abs(z_stat)))  # two-tailed test\n",
        "\n",
        "    reject_null = p_value < alpha\n",
        "\n",
        "    # Output results\n",
        "    print(f\"Sample Mean: {sample_mean:.4f}\")\n",
        "    print(f\"Z-Statistic: {z_stat:.4f}\")\n",
        "    print(f\"P-Value: {p_value:.4f}\")\n",
        "    if reject_null:\n",
        "        print(\"Result: Reject the null hypothesis (sample mean is significantly different).\")\n",
        "    else:\n",
        "        print(\"Result: Fail to reject the null hypothesis (no significant difference).\")\n",
        "\n",
        "    return z_stat, p_value, reject_null\n",
        "\n",
        "# Example usage:\n",
        "np.random.seed(0)\n",
        "sample = np.random.normal(loc=102, scale=15, size=40)  # simulated sample\n",
        "population_mean = 100\n",
        "population_std = 15\n",
        "\n",
        "one_sample_z_test(sample, population_mean, population_std)\n"
      ],
      "metadata": {
        "colab": {
          "base_uri": "https://localhost:8080/"
        },
        "id": "RXPYR7ug5_-Y",
        "outputId": "f60d844f-1e69-4959-fd73-cdc8090423b7"
      },
      "execution_count": 29,
      "outputs": [
        {
          "output_type": "stream",
          "name": "stdout",
          "text": [
            "Sample Mean: 106.6881\n",
            "Z-Statistic: 2.8200\n",
            "P-Value: 0.0048\n",
            "Result: Reject the null hypothesis (sample mean is significantly different).\n"
          ]
        },
        {
          "output_type": "execute_result",
          "data": {
            "text/plain": [
              "(np.float64(2.8199662045221343), np.float64(0.004802870746985821), np.True_)"
            ]
          },
          "metadata": {},
          "execution_count": 29
        }
      ]
    },
    {
      "cell_type": "markdown",
      "source": [
        "ques 4-**Perform a two-tailed Z-test using Python and visualize the decision region on a plot**"
      ],
      "metadata": {
        "id": "7t_BzW4e-VSz"
      }
    },
    {
      "cell_type": "code",
      "source": [
        "import numpy as np\n",
        "from scipy.stats import norm\n",
        "\n",
        "def one_sample_z_test(sample_data, pop_mean, pop_std, alpha=0.05):\n",
        "    \"\"\"\n",
        "    Perform a one-sample Z-test to compare sample mean with population mean.\n",
        "\n",
        "    Parameters:\n",
        "    - sample_data (array-like): Sample observations\n",
        "    - pop_mean (float): Known population mean (μ₀)\n",
        "    - pop_std (float): Known population standard deviation (σ)\n",
        "    - alpha (float): Significance level (default: 0.05)\n",
        "\n",
        "    Returns:\n",
        "    - z_stat (float): Z-score\n",
        "    - p_value (float): Two-tailed p-value\n",
        "    - reject_null (bool): True if null hypothesis is rejected\n",
        "    \"\"\"\n",
        "    sample_data = np.array(sample_data)\n",
        "    sample_mean = np.mean(sample_data)\n",
        "    n = len(sample_data)\n",
        "\n",
        "    # Z-statistic formula\n",
        "    z_stat = (sample_mean - pop_mean) / (pop_std / np.sqrt(n))\n",
        "    p_value = 2 * (1 - norm.cdf(abs(z_stat)))  # two-tailed test\n",
        "\n",
        "    reject_null = p_value < alpha\n",
        "\n",
        "    # Output results\n",
        "    print(f\"Sample Mean: {sample_mean:.4f}\")\n",
        "    print(f\"Z-Statistic: {z_stat:.4f}\")\n",
        "    print(f\"P-Value: {p_value:.4f}\")\n",
        "    if reject_null:\n",
        "        print(\"Result: Reject the null hypothesis (sample mean is significantly different).\")\n",
        "    else:\n",
        "        print(\"Result: Fail to reject the null hypothesis (no significant difference).\")\n",
        "\n",
        "    return z_stat, p_value, reject_null\n",
        "\n",
        "# Example usage:\n",
        "np.random.seed(0)\n",
        "sample = np.random.normal(loc=102, scale=15, size=40)  # simulated sample\n",
        "population_mean = 100\n",
        "population_std = 15\n",
        "\n",
        "one_sample_z_test(sample, population_mean, population_std)\n"
      ],
      "metadata": {
        "colab": {
          "base_uri": "https://localhost:8080/"
        },
        "id": "bl-w97SK-NtK",
        "outputId": "ba4787b2-71de-4853-fe5e-dff294bd5fa2"
      },
      "execution_count": 30,
      "outputs": [
        {
          "output_type": "stream",
          "name": "stdout",
          "text": [
            "Sample Mean: 106.6881\n",
            "Z-Statistic: 2.8200\n",
            "P-Value: 0.0048\n",
            "Result: Reject the null hypothesis (sample mean is significantly different).\n"
          ]
        },
        {
          "output_type": "execute_result",
          "data": {
            "text/plain": [
              "(np.float64(2.8199662045221343), np.float64(0.004802870746985821), np.True_)"
            ]
          },
          "metadata": {},
          "execution_count": 30
        }
      ]
    },
    {
      "cell_type": "markdown",
      "source": [
        "Ques 5-**E Create a Python function that calculates and visualizes Type 1 and Type 2 errors during hypothesis testing**"
      ],
      "metadata": {
        "id": "LWdcyjPX_YxZ"
      }
    },
    {
      "cell_type": "code",
      "source": [
        "import numpy as np\n",
        "import matplotlib.pyplot as plt\n",
        "from scipy.stats import norm\n",
        "\n",
        "def two_tailed_z_test_with_plot(sample_data, pop_mean, pop_std, alpha=0.05):\n",
        "    \"\"\"\n",
        "    Perform a two-tailed Z-test and visualize the decision region.\n",
        "\n",
        "    Parameters:\n",
        "    - sample_data (array-like): Sample observations\n",
        "    - pop_mean (float): Population mean under H0\n",
        "    - pop_std (float): Known population standard deviation\n",
        "    - alpha (float): Significance level\n",
        "\n",
        "    Returns:\n",
        "    - z_stat (float), p_value (float)\n",
        "    \"\"\"\n",
        "    sample_data = np.array(sample_data)\n",
        "    sample_mean = np.mean(sample_data)\n",
        "    n = len(sample_data)\n",
        "\n",
        "    # Z-test calculation\n",
        "    z_stat = (sample_mean - pop_mean) / (pop_std / np.sqrt(n))\n",
        "    p_value = 2 * (1 - norm.cdf(abs(z_stat)))\n",
        "\n",
        "    # Critical z-values for two-tailed test\n",
        "    z_critical = norm.ppf(1 - alpha / 2)\n",
        "\n",
        "    # Output results\n",
        "    print(f\"Sample Mean: {sample_mean:.4f}\")\n",
        "    print(f\"Z-Statistic: {z_stat:.4f}\")\n",
        "    print(f\"P-Value: {p_value:.4f}\")\n",
        "    if abs(z_stat) > z_critical:\n",
        "        print(\"Reject the null hypothesis (significant difference).\")\n",
        "    else:\n",
        "        print(\"Fail to reject the null hypothesis.\")\n",
        "\n",
        "    # Visualization\n",
        "    x = np.linspace(-4, 4, 1000)\n",
        "    y = norm.pdf(x)\n",
        "\n",
        "    plt.figure(figsize=(10, 5))\n",
        "    plt.plot(x, y, label='Standard Normal Distribution', color='black')\n",
        "\n",
        "    # Shade critical regions\n",
        "    plt.fill_between(x, y, where=(x <= -z_critical), color='red', alpha=0.3, label='Rejection Region')\n",
        "    plt.fill_between(x, y, where=(x >= z_critical), color='red', alpha=0.3)\n",
        "\n",
        "    # Plot Z-statistic\n",
        "    plt.axvline(z_stat, color='blue', linestyle='--', linewidth=2, label=f'Z-stat = {z_stat:.2f}')\n",
        "    plt.axvline(-z_critical, color='gray', linestyle=':', label=f'Critical z = ±{z_critical:.2f}')\n",
        "    plt.axvline(z_critical, color='gray', linestyle=':')\n",
        "\n",
        "    plt.title('Two-Tailed Z-Test Visualization')\n",
        "    plt.xlabel('Z')\n",
        "    plt.ylabel('Density')\n",
        "    plt.legend()\n",
        "    plt.grid(True)\n",
        "    plt.show()\n",
        "\n",
        "    return z_stat, p_value\n",
        "\n",
        "# Example usage\n",
        "np.random.seed(42)\n",
        "sample = np.random.normal(loc=102, scale=15, size=40)\n",
        "pop_mean = 100\n",
        "pop_std = 15\n",
        "two_tailed_z_test_with_plot(sample, pop_mean, pop_std, alpha=0.05)\n"
      ],
      "metadata": {
        "colab": {
          "base_uri": "https://localhost:8080/",
          "height": 574
        },
        "id": "k7VDYxOc_VY5",
        "outputId": "d5044365-4bad-4a0f-f7bc-da38e931d712"
      },
      "execution_count": 31,
      "outputs": [
        {
          "output_type": "stream",
          "name": "stdout",
          "text": [
            "Sample Mean: 98.7204\n",
            "Z-Statistic: -0.5395\n",
            "P-Value: 0.5895\n",
            "Fail to reject the null hypothesis.\n"
          ]
        },
        {
          "output_type": "display_data",
          "data": {
            "text/plain": [
              "<Figure size 1000x500 with 1 Axes>"
            ],
            "image/png": "[encoded data removed]"
          },
          "metadata": {}
        },
        {
          "output_type": "execute_result",
          "data": {
            "text/plain": [
              "(np.float64(-0.5395067369262156), np.float64(0.5895372497006477))"
            ]
          },
          "metadata": {},
          "execution_count": 31
        }
      ]
    },
    {
      "cell_type": "markdown",
      "source": [
        "ques 6-**Write a Python program to perform an independent T-test and interpret the results**"
      ],
      "metadata": {
        "id": "ltqI4NUSA2Xj"
      }
    },
    {
      "cell_type": "code",
      "source": [
        "import numpy as np\n",
        "from scipy.stats import ttest_ind\n",
        "\n",
        "def perform_independent_t_test(group1, group2, alpha=0.05, equal_var=False):\n",
        "    \"\"\"\n",
        "    Perform an independent t-test and interpret the results.\n",
        "\n",
        "    Parameters:\n",
        "    - group1, group2: Lists or arrays of numerical data\n",
        "    - alpha: Significance level (default = 0.05)\n",
        "    - equal_var: Assume equal population variances (default = False for Welch’s t-test)\n",
        "\n",
        "    Returns:\n",
        "    - t_stat: T-statistic value\n",
        "    - p_value: P-value from the test\n",
        "    \"\"\"\n",
        "    t_stat, p_value = ttest_ind(group1, group2, equal_var=equal_var)\n",
        "\n",
        "    print(\"=== Independent T-Test Results ===\")\n",
        "    print(f\"Group 1 Mean: {np.mean(group1):.4f}\")\n",
        "    print(f\"Group 2 Mean: {np.mean(group2):.4f}\")\n",
        "    print(f\"T-statistic: {t_stat:.4f}\")\n",
        "    print(f\"P-value: {p_value:.4f}\")\n",
        "\n",
        "    if p_value < alpha:\n",
        "        print(f\"Result: Reject the null hypothesis at α={alpha}.\")\n",
        "        print(\"→ The means of the two groups are significantly different.\")\n",
        "    else:\n",
        "        print(f\"Result: Fail to reject the null hypothesis at α={alpha}.\")\n",
        "        print(\"→ No significant difference between the group means.\")\n",
        "\n",
        "    return t_stat, p_value\n",
        "\n",
        "# Example usage\n",
        "if __name__ == \"__main__\":\n",
        "    np.random.seed(42)\n",
        "    group1 = np.random.normal(loc=50, scale=5, size=30)  # Simulated group 1\n",
        "    group2 = np.random.normal(loc=52, scale=5, size=30)  # Simulated group 2\n",
        "\n",
        "    perform_independent_t_test(group1, group2, alpha=0.05)\n"
      ],
      "metadata": {
        "colab": {
          "base_uri": "https://localhost:8080/"
        },
        "id": "kOtBB5OHAVFC",
        "outputId": "68b6162f-c953-4a88-d5ad-2c8dfc193ac1"
      },
      "execution_count": 32,
      "outputs": [
        {
          "output_type": "stream",
          "name": "stdout",
          "text": [
            "=== Independent T-Test Results ===\n",
            "Group 1 Mean: 49.0593\n",
            "Group 2 Mean: 51.3942\n",
            "T-statistic: -1.9752\n",
            "P-value: 0.0530\n",
            "Result: Fail to reject the null hypothesis at α=0.05.\n",
            "→ No significant difference between the group means.\n"
          ]
        }
      ]
    },
    {
      "cell_type": "markdown",
      "source": [
        "ques 7-**Perform a paired sample T-test using Python and visualize the comparison results**"
      ],
      "metadata": {
        "id": "K9a9NCi1BV9u"
      }
    },
    {
      "cell_type": "code",
      "source": [
        "import numpy as np\n",
        "import matplotlib.pyplot as plt\n",
        "from scipy.stats import ttest_rel\n",
        "\n",
        "def paired_t_test_with_plot(before, after, alpha=0.05):\n",
        "    \"\"\"\n",
        "    Perform a paired t-test and visualize the comparison.\n",
        "\n",
        "    Parameters:\n",
        "    - before: Array of measurements before treatment/intervention\n",
        "    - after: Array of measurements after treatment/intervention\n",
        "    - alpha: Significance level (default = 0.05)\n",
        "\n",
        "    Returns:\n",
        "    - t_stat: T-statistic value\n",
        "    - p_value: P-value\n",
        "    \"\"\"\n",
        "    # Convert to numpy arrays\n",
        "    before = np.array(before)\n",
        "    after = np.array(after)\n",
        "\n",
        "    # Perform paired t-test\n",
        "    t_stat, p_value = ttest_rel(before, after)\n",
        "\n",
        "    # Results\n",
        "    print(\"=== Paired Sample T-Test Results ===\")\n",
        "    print(f\"Mean Before: {np.mean(before):.4f}\")\n",
        "    print(f\"Mean After: {np.mean(after):.4f}\")\n",
        "    print(f\"T-statistic: {t_stat:.4f}\")\n",
        "    print(f\"P-value: {p_value:.4f}\")\n",
        "\n",
        "    if p_value < alpha:\n",
        "        print(\"→ Reject the null hypothesis: significant difference between paired samples.\")\n",
        "    else:\n",
        "        print(\"→ Fail to reject the null hypothesis: no significant difference.\")\n",
        "\n",
        "    # Visualization\n",
        "    plt.figure(figsize=(10, 5))\n",
        "    plt.plot([1]*len(before), before, 'bo', label='Before')\n",
        "    plt.plot([2]*len(after), after, 'go', label='After')\n",
        "    for b, a in zip(before, after):\n",
        "        plt.plot([1, 2], [b, a], 'k-', alpha=0.5)  # Connect paired points\n",
        "\n",
        "    plt.xticks([1, 2], ['Before', 'After'])\n",
        "    plt.title(\"Paired Sample Comparison\")\n",
        "    plt.ylabel(\"Measurement\")\n",
        "    plt.grid(True)\n",
        "    plt.legend()\n",
        "    plt.tight_layout()\n",
        "    plt.show()\n",
        "\n",
        "    return t_stat, p_value\n",
        "\n",
        "# Example usage\n",
        "if __name__ == \"__main__\":\n",
        "    np.random.seed(0)\n",
        "    before = np.random.normal(loc=100, scale=10, size=30)\n",
        "    after = before + np.random.normal(loc=-2, scale=5, size=30)  # Simulate slight change\n",
        "\n",
        "    paired_t_test_with_plot(before, after)\n"
      ],
      "metadata": {
        "colab": {
          "base_uri": "https://localhost:8080/",
          "height": 611
        },
        "id": "5UPL_EsGBT1z",
        "outputId": "1479b9d6-468d-4465-deea-4ab16268db84"
      },
      "execution_count": 33,
      "outputs": [
        {
          "output_type": "stream",
          "name": "stdout",
          "text": [
            "=== Paired Sample T-Test Results ===\n",
            "Mean Before: 104.4286\n",
            "Mean After: 100.9810\n",
            "T-statistic: 4.1309\n",
            "P-value: 0.0003\n",
            "→ Reject the null hypothesis: significant difference between paired samples.\n"
          ]
        },
        {
          "output_type": "display_data",
          "data": {
            "text/plain": [
              "<Figure size 1000x500 with 1 Axes>"
            ],
            "image/png": "[encoded data removed]"
          },
          "metadata": {}
        }
      ]
    },
    {
      "cell_type": "markdown",
      "source": [
        "ques 8-**Simulate data and perform both Z-test and T-test, then compare the results using Python**"
      ],
      "metadata": {
        "id": "PZd4VMBKCKAN"
      }
    },
    {
      "cell_type": "code",
      "source": [
        "import numpy as np\n",
        "from scipy.stats import norm, ttest_1samp\n",
        "import matplotlib.pyplot as plt\n",
        "\n",
        "def simulate_and_compare_tests(n=30, pop_mean=100, sample_mean_true=102, pop_std=15, alpha=0.05):\n",
        "    \"\"\"\n",
        "    Simulates a dataset and performs both Z-test and T-test to compare results.\n",
        "\n",
        "    Parameters:\n",
        "    - n: Sample size\n",
        "    - pop_mean: Null hypothesis mean (H₀)\n",
        "    - sample_mean_true: True mean for data generation\n",
        "    - pop_std: Known population standard deviation for Z-test\n",
        "    - alpha: Significance level\n",
        "    \"\"\"\n",
        "    np.random.seed(1)\n",
        "    sample = np.random.normal(loc=sample_mean_true, scale=pop_std, size=n)\n",
        "    sample_mean = np.mean(sample)\n",
        "    sample_std = np.std(sample, ddof=1)\n",
        "\n",
        "    # ---- Z-Test (assuming population std known) ----\n",
        "    z_stat = (sample_mean - pop_mean) / (pop_std / np.sqrt(n))\n",
        "    p_value_z = 2 * (1 - norm.cdf(abs(z_stat)))\n",
        "\n",
        "    # ---- T-Test (using sample std) ----\n",
        "    t_stat, p_value_t = ttest_1samp(sample, pop_mean)\n",
        "\n",
        "    # ---- Output results ----\n",
        "    print(\"=== Z-Test (Known population std) ===\")\n",
        "    print(f\"Z-statistic: {z_stat:.4f}\")\n",
        "    print(f\"P-value: {p_value_z:.4f}\")\n",
        "    print(\"Reject H₀\" if p_value_z < alpha else \"Fail to reject H₀\")\n",
        "\n",
        "    print(\"\\n=== T-Test (Unknown population std) ===\")\n",
        "    print(f\"T-statistic: {t_stat:.4f}\")\n",
        "    print(f\"P-value: {p_value_t:.4f}\")\n",
        "    print(\"Reject H₀\" if p_value_t < alpha else \"Fail to reject H₀\")\n",
        "\n",
        "    # ---- Visualization ----\n",
        "    labels = ['Z-test', 'T-test']\n",
        "    p_values = [p_value_z, p_value_t]\n",
        "    colors = ['skyblue' if p >= alpha else 'salmon' for p in p_values]\n",
        "\n",
        "    plt.figure(figsize=(6, 4))\n",
        "    plt.bar(labels, p_values, color=colors)\n",
        "    plt.axhline(alpha, color='gray', linestyle='--', label=f'α = {alpha}')\n",
        "    plt.title('P-Values: Z-test vs. T-test')\n",
        "    plt.ylabel('P-value')\n",
        "    plt.legend()\n",
        "    plt.grid(True)\n",
        "    plt.tight_layout()\n",
        "    plt.show()\n"
      ],
      "metadata": {
        "id": "RBOdP0pOCHF0"
      },
      "execution_count": 37,
      "outputs": []
    },
    {
      "cell_type": "markdown",
      "source": [
        "ques9-**Write a Python function to calculate the confidence interval for a sample mean and explain its significance**"
      ],
      "metadata": {
        "id": "mGGL-9JPCsR_"
      }
    },
    {
      "cell_type": "code",
      "source": [
        "import numpy as np\n",
        "from scipy.stats import t\n",
        "\n",
        "def confidence_interval_mean(data, confidence=0.95):\n",
        "    \"\"\"\n",
        "    Calculates the confidence interval for the sample mean.\n",
        "\n",
        "    Parameters:\n",
        "    - data (list or array): Sample data\n",
        "    - confidence (float): Confidence level (e.g., 0.95 for 95%)\n",
        "\n",
        "    Returns:\n",
        "    - (lower_bound, upper_bound): Tuple representing the confidence interval\n",
        "    \"\"\"\n",
        "    data = np.array(data)\n",
        "    n = len(data)\n",
        "    mean = np.mean(data)\n",
        "    std_err = np.std(data, ddof=1) / np.sqrt(n)\n",
        "    t_crit = t.ppf((1 + confidence) / 2, df=n-1)\n",
        "\n",
        "    margin_of_error = t_crit * std_err\n",
        "    ci_lower = mean - margin_of_error\n",
        "    ci_upper = mean + margin_of_error\n",
        "\n",
        "    print(f\"Sample Mean: {mean:.4f}\")\n",
        "    print(f\"Confidence Interval ({int(confidence*100)}%): ({ci_lower:.4f}, {ci_upper:.4f})\")\n",
        "\n",
        "    return ci_lower, ci_upper\n"
      ],
      "metadata": {
        "id": "DXEsCS3OC7kn"
      },
      "execution_count": 38,
      "outputs": []
    },
    {
      "cell_type": "markdown",
      "source": [
        "ques 9-**Write a Python function to calculate the confidence interval for a sample mean and explain its significance**"
      ],
      "metadata": {
        "id": "LI-4rR6EDGMW"
      }
    },
    {
      "cell_type": "code",
      "source": [
        "import numpy as np\n",
        "from scipy.stats import t\n",
        "\n",
        "def confidence_interval(data, confidence=0.95):\n",
        "    \"\"\"\n",
        "    Calculate the confidence interval for a sample mean using the t-distribution.\n",
        "\n",
        "    Parameters:\n",
        "        data (list or np.array): The sample data\n",
        "        confidence (float): The confidence level (default is 0.95)\n",
        "\n",
        "    Returns:\n",
        "        tuple: (mean, lower_bound, upper_bound)\n",
        "    \"\"\"\n",
        "    data = np.array(data)\n",
        "    n = len(data)\n",
        "    mean = np.mean(data)\n",
        "    std_err = np.std(data, ddof=1) / np.sqrt(n)\n",
        "    t_critical = t.ppf((1 + confidence) / 2, df=n-1)\n",
        "\n",
        "    margin_of_error = t_critical * std_err\n",
        "    lower = mean - margin_of_\n"
      ],
      "metadata": {
        "id": "xv_q4XnLC_hM"
      },
      "execution_count": 40,
      "outputs": []
    },
    {
      "cell_type": "markdown",
      "source": [
        "ques 10-**E Write a Python program to calculate the margin of error for a given confidence level using sample data**"
      ],
      "metadata": {
        "id": "QqdUDpx0EJqd"
      }
    },
    {
      "cell_type": "code",
      "source": [
        "import numpy as np\n",
        "from scipy.stats import t\n",
        "\n",
        "def confidence_interval(data, confidence=0.95):\n",
        "    \"\"\"\n",
        "    Calculate the confidence interval for a sample mean using the t-distribution.\n",
        "\n",
        "    Parameters:\n",
        "        data (list or np.array): The sample data\n",
        "        confidence (float): The confidence level (default is 0.95)\n",
        "\n",
        "    Returns:\n",
        "        tuple: (mean, lower_bound, upper_bound)\n",
        "    \"\"\"\n",
        "    data = np.array(data)\n",
        "    n = len(data)\n",
        "    mean = np.mean(data)\n",
        "    std_err = np.std(data, ddof=1) / np.sqrt(n)\n",
        "    t_critical = t.ppf((1 + confidence) / 2, df=n-1)\n",
        "\n",
        "    margin_of_error = t_critical * std_err\n",
        "    lower = mean - margin_of_error\n",
        "    upper = mean + margin_of_error\n",
        "\n",
        "    return mean, lower, upper\n"
      ],
      "metadata": {
        "id": "dpCxB4-KEGVE"
      },
      "execution_count": 41,
      "outputs": []
    },
    {
      "cell_type": "markdown",
      "source": [
        "ques 11-**Implement a Bayesian inference method using Bayes' Theorem in Python and explain the process**"
      ],
      "metadata": {
        "id": "8O3ZU9JAEgza"
      }
    },
    {
      "cell_type": "code",
      "source": [
        "def bayesian_inference(prior, sensitivity, specificity):\n",
        "    \"\"\"\n",
        "    Applies Bayes' Theorem to update belief about a condition given a positive test result.\n",
        "\n",
        "    Parameters:\n",
        "    - prior: P(Disease), the prior probability\n",
        "    - sensitivity: P(Pos | Disease)\n",
        "    - specificity: P(Neg | No Disease)\n",
        "\n",
        "    Returns:\n",
        "    - posterior: P(Disease | Pos)\n",
        "    \"\"\"\n",
        "    # Complementary probabilities\n",
        "    p_disease = prior\n",
        "    p_no_disease = 1 - prior\n",
        "    p_pos_given_disease = sensitivity\n",
        "    p_pos_given_no_disease = 1 - specificity\n",
        "\n",
        "    # Total probability of a positive test (evidence)\n",
        "    p_pos = (p_pos_given_disease * p_disease) + (p_pos_given_no_disease * p_no_disease)\n",
        "\n",
        "    # Bayes' Theorem\n",
        "    posterior = (p_pos_given_disease * p_disease) / p_pos\n",
        "\n",
        "    print(\"=== Bayesian Inference ===\")\n",
        "    print(f\"Prior Probability (P(Disease))          : {p_disease:.4f}\")\n",
        "    print(f\"Likelihood (P(Pos | Disease))           : {p_pos_given_disease:.4f}\")\n",
        "    print(f\"False Positive Rate (P(Pos | NoDisease)): {p_pos_given_no_disease:.4f}\")\n",
        "    print(f\"Marginal Probability (P(Pos))           : {p_pos:.4f}\")\n",
        "    print(f\"Posterior (P(Disease | Pos))            : {posterior:.4f}\")\n",
        "\n",
        "    return posterior\n"
      ],
      "metadata": {
        "id": "ZFW5iS3EEa_e"
      },
      "execution_count": 42,
      "outputs": []
    },
    {
      "cell_type": "markdown",
      "source": [
        "ques 12-** Perform a Chi-square test for independence between two categorical variables in Python**"
      ],
      "metadata": {
        "id": "rqiFxqO0E7io"
      }
    },
    {
      "cell_type": "code",
      "source": [
        "import numpy as np\n",
        "import pandas as pd\n",
        "from scipy.stats import chi2_contingency\n",
        "\n",
        "# Example contingency table (observed frequencies)\n",
        "# Suppose we have two categorical variables: Gender and Preference\n",
        "data = pd.DataFrame({\n",
        "    'Preference A': [30, 10],\n",
        "    'Preference B': [20, 40]\n",
        "}, index=['Male', 'Female'])\n",
        "\n",
        "print(\"Contingency Table:\")\n",
        "print(data)\n",
        "\n",
        "# Perform Chi-square test\n",
        "chi2, p, dof, expected = chi2_contingency(data)\n",
        "\n",
        "print(\"\\nChi-square Statistic:\", chi2)\n",
        "print(\"Degrees of Freedom:\", dof)\n",
        "print(\"P-value:\", p)\n",
        "print(\"\\nExpected Frequencies:\")\n",
        "print(pd.DataFrame(expected, index=data.index, columns=data.columns))\n",
        "\n",
        "# Interpret the result\n",
        "alpha = 0.05\n",
        "if p < alpha:\n",
        "    print(\"\\nReject null hypothesis - variables are likely dependent\")\n",
        "else:\n",
        "    print(\"\\nFail to reject null hypothesis - no evidence of dependence\")\n"
      ],
      "metadata": {
        "colab": {
          "base_uri": "https://localhost:8080/"
        },
        "id": "XLtB6OxkE66b",
        "outputId": "63920a0a-e117-443f-8932-5653dd3d3658"
      },
      "execution_count": 43,
      "outputs": [
        {
          "output_type": "stream",
          "name": "stdout",
          "text": [
            "Contingency Table:\n",
            "        Preference A  Preference B\n",
            "Male              30            20\n",
            "Female            10            40\n",
            "\n",
            "Chi-square Statistic: 15.041666666666668\n",
            "Degrees of Freedom: 1\n",
            "P-value: 0.00010516355403363114\n",
            "\n",
            "Expected Frequencies:\n",
            "        Preference A  Preference B\n",
            "Male            20.0          30.0\n",
            "Female          20.0          30.0\n",
            "\n",
            "Reject null hypothesis - variables are likely dependent\n"
          ]
        }
      ]
    },
    {
      "cell_type": "markdown",
      "source": [
        "ques 13-**Write a Python program to calculate the expected frequencies for a Chi-square test based on observed\n",
        "data**"
      ],
      "metadata": {
        "id": "EkvANUHGFVKl"
      }
    },
    {
      "cell_type": "code",
      "source": [
        " import numpy as np\n",
        "\n",
        "def calculate_expected_frequencies(observed):\n",
        "    \"\"\"\n",
        "    Calculate the expected frequencies for a Chi-square test.\n",
        "\n",
        "    Parameters:\n",
        "        observed (2D array-like): Observed frequency table (contingency table)\n",
        "\n",
        "    Returns:\n",
        "        numpy.ndarray: Expected frequency table\n",
        "    \"\"\"\n",
        "    observed = np.array(observed)\n",
        "\n",
        "    # Row sums and column sums\n",
        "    row_sums = observed.sum(axis=1).reshape(-1, 1)\n",
        "    col_sums = observed.sum(axis=0).reshape(1, -1)\n",
        "    total = observed.sum()\n",
        "\n",
        "    # Calculate expected frequencies\n",
        "    expected = (row_sums @ col_sums) / total\n",
        "\n",
        "    return expected\n",
        "\n",
        "# Example usage:\n",
        "observed_data = [\n",
        "    [30, 10],\n",
        "    [20, 40]\n",
        "]\n",
        "\n",
        "expected_freq = calculate_expected_frequencies(observed_data)\n",
        "print(\"Observed Frequencies:\\n\", np.array(observed_data))\n",
        "print(\"\\nExpected Frequencies:\\n\", expected_freq)\n"
      ],
      "metadata": {
        "colab": {
          "base_uri": "https://localhost:8080/"
        },
        "id": "IxQcnjadFGRA",
        "outputId": "7ba64815-d121-4f42-d9d7-4e82ab6e7744"
      },
      "execution_count": 44,
      "outputs": [
        {
          "output_type": "stream",
          "name": "stdout",
          "text": [
            "Observed Frequencies:\n",
            " [[30 10]\n",
            " [20 40]]\n",
            "\n",
            "Expected Frequencies:\n",
            " [[20. 20.]\n",
            " [30. 30.]]\n"
          ]
        }
      ]
    },
    {
      "cell_type": "markdown",
      "source": [
        "ques 14-**Perform a goodness-of-fit test using Python to compare the observed data to an expected distribution.**"
      ],
      "metadata": {
        "id": "n3SnUXkdFf_r"
      }
    },
    {
      "cell_type": "code",
      "source": [
        "import numpy as np\n",
        "from scipy.stats import chisquare\n",
        "\n",
        "def goodness_of_fit_test(observed, expected):\n",
        "    \"\"\"\n",
        "    Perform a Chi-square goodness-of-fit test.\n",
        "\n",
        "    Parameters:\n",
        "    - observed: array-like, observed frequencies\n",
        "    - expected: array-like, expected frequencies (must sum to the same total as observed)\n",
        "\n",
        "    Returns:\n",
        "    - chi2_stat: Chi-square test statistic\n",
        "    - p_value: p-value of the test\n",
        "    \"\"\"\n",
        "    # Make sure expected frequencies sum to the same as observed\n",
        "    expected = np.array(expected) * (np.sum(observed) / np.sum(expected))\n",
        "\n",
        "    chi2_stat, p_value = chisquare(f_obs=observed, f_exp=expected)\n",
        "    return chi2_stat, p_value\n",
        "\n",
        "# Example usage:\n",
        "observed_counts = np.array([50, 30, 20])\n",
        "expected_probs = np.array([0.4, 0.4, 0.2])  # expected proportions\n",
        "\n",
        "chi2_stat, p_value = goodness_of_fit_test(observed_counts, expected_probs)\n",
        "\n",
        "print(f\"Chi-square Statistic: {chi2_stat:.4f}\")\n",
        "print(f\"P-value: {p_value:.4f}\")\n",
        "\n",
        "alpha = 0.05\n",
        "if p_value < alpha:\n",
        "    print(\"Reject null hypothesis: Observed data does NOT fit the expected distribution.\")\n",
        "else:\n",
        "    print(\"Fail to reject null hypothesis: Observed data fits the expected distribution.\")\n"
      ],
      "metadata": {
        "colab": {
          "base_uri": "https://localhost:8080/"
        },
        "id": "fEWRms23Fejp",
        "outputId": "15a798ab-ca28-404c-cf39-0c8bb0d72070"
      },
      "execution_count": 45,
      "outputs": [
        {
          "output_type": "stream",
          "name": "stdout",
          "text": [
            "Chi-square Statistic: 5.0000\n",
            "P-value: 0.0821\n",
            "Fail to reject null hypothesis: Observed data fits the expected distribution.\n"
          ]
        }
      ]
    },
    {
      "cell_type": "code",
      "source": [],
      "metadata": {
        "id": "MwTUWCYbFwkc"
      },
      "execution_count": null,
      "outputs": []
    }
  ]
}